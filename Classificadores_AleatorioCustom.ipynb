{
  "nbformat": 4,
  "nbformat_minor": 0,
  "metadata": {
    "colab": {
      "name": "Classificadores-AleatorioCustom.ipynb",
      "provenance": [],
      "authorship_tag": "ABX9TyN7PdJGgJdslPFVY0HpX6wK",
      "include_colab_link": true
    },
    "kernelspec": {
      "name": "python3",
      "display_name": "Python 3"
    },
    "language_info": {
      "name": "python"
    }
  },
  "cells": [
    {
      "cell_type": "markdown",
      "metadata": {
        "id": "view-in-github",
        "colab_type": "text"
      },
      "source": [
        "<a href=\"https://colab.research.google.com/github/Jovania/Projetos-01/blob/master/Classificadores_AleatorioCustom.ipynb\" target=\"_parent\"><img src=\"https://colab.research.google.com/assets/colab-badge.svg\" alt=\"Open In Colab\"/></a>"
      ]
    },
    {
      "cell_type": "markdown",
      "metadata": {
        "id": "FaifbN4MKbgQ"
      },
      "source": [
        "# **Criando um classificador aleatório**"
      ]
    },
    {
      "cell_type": "code",
      "metadata": {
        "id": "rrziN8b2OpL5"
      },
      "source": [
        "from sklearn import datasets \n",
        "from sklearn.model_selection import train_test_split\n",
        "from sklearn.metrics import accuracy_score\n",
        "from sklearn.neighbors import KNeighborsClassifier\n",
        "from sklearn import tree\n",
        "import random"
      ],
      "execution_count": 7,
      "outputs": []
    },
    {
      "cell_type": "markdown",
      "metadata": {
        "id": "oTy2cvB_OyJN"
      },
      "source": [
        "Criando a classe do novo classificar. Este classificar seleciona aleatoriamente um dado."
      ]
    },
    {
      "cell_type": "code",
      "metadata": {
        "id": "Zx8pjBqnQH2x"
      },
      "source": [
        "class AleatorioClassifier():\n",
        "    def fit(self_o, X_train, y_train):\n",
        "        self_o.X_train = X_train\n",
        "        self_o.y_train = y_train\n",
        "\n",
        "    def predict(self_o, X_test):\n",
        "        predictions = []\n",
        "        for row in X_test:\n",
        "            label = random.choice(self_o.y_train) #selecão aleatoria\n",
        "            predictions.append(label)\n",
        "        return predictions"
      ],
      "execution_count": 8,
      "outputs": []
    },
    {
      "cell_type": "code",
      "metadata": {
        "id": "16GC0ba_KNYV"
      },
      "source": [
        "iris = datasets.load_iris()\n",
        "X = iris.data\n",
        "y = iris.target\n",
        "\n",
        "X_train, X_test, y_train, y_test = train_test_split(X, y, test_size=0.2)\n",
        "\n",
        "my_classifier = AleatorioClassifier() #chamada da Classe\n",
        "\n",
        "my_classifier.fit(X_train, y_train)"
      ],
      "execution_count": 9,
      "outputs": []
    },
    {
      "cell_type": "markdown",
      "metadata": {
        "id": "IW3BE1ggQcij"
      },
      "source": [
        "A acurácia exibida deste classificador aleatório ficará em torno de 30%, pois temos 3 conjuntos de dados no dataset Iris."
      ]
    },
    {
      "cell_type": "code",
      "metadata": {
        "colab": {
          "base_uri": "https://localhost:8080/"
        },
        "id": "h-bBLj6gQjf8",
        "outputId": "b45f471a-a626-4fb4-cd98-9c6bbb02f916"
      },
      "source": [
        "predictions = my_classifier.predict(X_test)\n",
        "print(accuracy_score(y_test, predictions))"
      ],
      "execution_count": 11,
      "outputs": [
        {
          "output_type": "stream",
          "name": "stdout",
          "text": [
            "0.26666666666666666\n"
          ]
        }
      ]
    }
  ]
}