{
  "nbformat": 4,
  "nbformat_minor": 0,
  "metadata": {
    "colab": {
      "name": "Jovania-MLcovid.ipynb",
      "provenance": [],
      "collapsed_sections": [],
      "toc_visible": true,
      "include_colab_link": true
    },
    "kernelspec": {
      "name": "python3",
      "display_name": "Python 3"
    }
  },
  "cells": [
    {
      "cell_type": "markdown",
      "metadata": {
        "id": "view-in-github",
        "colab_type": "text"
      },
      "source": [
        "<a href=\"https://colab.research.google.com/github/Jovania/Projetos-01/blob/master/Jovania_MLcovid.ipynb\" target=\"_parent\"><img src=\"https://colab.research.google.com/assets/colab-badge.svg\" alt=\"Open In Colab\"/></a>"
      ]
    },
    {
      "cell_type": "markdown",
      "metadata": {
        "id": "HifbM0T-wrjd"
      },
      "source": [
        "# COVID-RS\n",
        "\n",
        "O objetivo desta tarefa é utilizar e avaliar técnicas de aprendizado de máquina em uma base de dados real. Esta base é originada da Secretaria Estadual de Saúde do RS e contém todos casos registrados de COVID-19 no estado, com informações diversas sobre cada caso, incluindo informações de hospitalização e óbito. \n",
        "\n",
        "Este notebook contém o esqueleto básico para carregar os dados e deve ser expandido para explorar metodologias diversas."
      ]
    },
    {
      "cell_type": "markdown",
      "metadata": {
        "id": "u8sNpaCiBBY3"
      },
      "source": [
        "# Carregamento dos dados"
      ]
    },
    {
      "cell_type": "code",
      "metadata": {
        "id": "aWq_y-d-RZde",
        "outputId": "d8cc0cc3-6464-4c13-a3c6-77fe176d3761",
        "colab": {
          "base_uri": "https://localhost:8080/"
        }
      },
      "source": [
        "# Baixar os dados da Secretaria de Saude e renomear para algo mais usável \n",
        "# Observar que os dados são atualizados diariamente, pode ser uma boa ideia fazer uma copia mais estável\n",
        "\n",
        "!wget https://ti.saude.rs.gov.br/covid19/download\n",
        "!mv download dados_covid_rs.csv"
      ],
      "execution_count": 1,
      "outputs": [
        {
          "output_type": "stream",
          "text": [
            "--2020-11-07 00:37:32--  https://ti.saude.rs.gov.br/covid19/download\n",
            "Resolving ti.saude.rs.gov.br (ti.saude.rs.gov.br)... 200.198.173.170\n",
            "Connecting to ti.saude.rs.gov.br (ti.saude.rs.gov.br)|200.198.173.170|:443... connected.\n",
            "HTTP request sent, awaiting response... 200 OK\n",
            "Length: unspecified [text/csv]\n",
            "Saving to: ‘download’\n",
            "\n",
            "download                [       <=>          ]  51.75M  3.37MB/s    in 18s     \n",
            "\n",
            "2020-11-07 00:37:53 (2.91 MB/s) - ‘download’ saved [54269374]\n",
            "\n"
          ],
          "name": "stdout"
        }
      ]
    },
    {
      "cell_type": "code",
      "metadata": {
        "id": "p7BfJnOrRscw",
        "outputId": "7f4b8b8c-78de-4e0a-8589-55d58702041b",
        "colab": {
          "base_uri": "https://localhost:8080/",
          "height": 326
        }
      },
      "source": [
        "# Vamos usar o pandas para carregar os dados. Observar que o separador de colunas no arquivo é ponto-e-vírgula.\n",
        "\n",
        "import pandas as pd\n",
        "dados = pd.read_csv(\"dados_covid_rs.csv\", delimiter=';')\n",
        "dados.head()"
      ],
      "execution_count": 2,
      "outputs": [
        {
          "output_type": "execute_result",
          "data": {
            "text/html": [
              "<div>\n",
              "<style scoped>\n",
              "    .dataframe tbody tr th:only-of-type {\n",
              "        vertical-align: middle;\n",
              "    }\n",
              "\n",
              "    .dataframe tbody tr th {\n",
              "        vertical-align: top;\n",
              "    }\n",
              "\n",
              "    .dataframe thead th {\n",
              "        text-align: right;\n",
              "    }\n",
              "</style>\n",
              "<table border=\"1\" class=\"dataframe\">\n",
              "  <thead>\n",
              "    <tr style=\"text-align: right;\">\n",
              "      <th></th>\n",
              "      <th>COD_IBGE</th>\n",
              "      <th>MUNICIPIO</th>\n",
              "      <th>COD_REGIAO_COVID</th>\n",
              "      <th>REGIAO_COVID</th>\n",
              "      <th>SEXO</th>\n",
              "      <th>FAIXAETARIA</th>\n",
              "      <th>CRITERIO</th>\n",
              "      <th>DATA_CONFIRMACAO</th>\n",
              "      <th>DATA_SINTOMAS</th>\n",
              "      <th>DATA_EVOLUCAO</th>\n",
              "      <th>EVOLUCAO</th>\n",
              "      <th>HOSPITALIZADO</th>\n",
              "      <th>FEBRE</th>\n",
              "      <th>TOSSE</th>\n",
              "      <th>GARGANTA</th>\n",
              "      <th>DISPNEIA</th>\n",
              "      <th>OUTROS</th>\n",
              "      <th>CONDICOES</th>\n",
              "      <th>GESTANTE</th>\n",
              "      <th>DATA_INCLUSAO_OBITO</th>\n",
              "      <th>DATA_EVOLUCAO_ESTIMADA</th>\n",
              "      <th>RACA_COR</th>\n",
              "      <th>ETNIA_INDIGENA</th>\n",
              "      <th>PROFISSIONAL_SAUDE</th>\n",
              "      <th>BAIRRO</th>\n",
              "      <th>HOSPITALIZACAO_SRAG</th>\n",
              "      <th>FONTE_INFORMACAO</th>\n",
              "      <th>PAIS_NASCIMENTO</th>\n",
              "      <th>PES_PRIV_LIBERDADE</th>\n",
              "    </tr>\n",
              "  </thead>\n",
              "  <tbody>\n",
              "    <tr>\n",
              "      <th>0</th>\n",
              "      <td>430003</td>\n",
              "      <td>ACEGUÁ</td>\n",
              "      <td>16</td>\n",
              "      <td>BAGE - R22</td>\n",
              "      <td>Feminino</td>\n",
              "      <td>20 a 29</td>\n",
              "      <td>RT-PCR</td>\n",
              "      <td>11/09/2020</td>\n",
              "      <td>08/09/2020</td>\n",
              "      <td>NaN</td>\n",
              "      <td>RECUPERADO</td>\n",
              "      <td>NAO</td>\n",
              "      <td>SIM</td>\n",
              "      <td>NAO</td>\n",
              "      <td>SIM</td>\n",
              "      <td>NAO</td>\n",
              "      <td>NAO</td>\n",
              "      <td>Gestante</td>\n",
              "      <td>SIM</td>\n",
              "      <td>NaN</td>\n",
              "      <td>22/09/2020</td>\n",
              "      <td>NAO INFORMADO</td>\n",
              "      <td>NAO ENCONTRADO</td>\n",
              "      <td>NAO INFORMADO</td>\n",
              "      <td>NaN</td>\n",
              "      <td>NAO</td>\n",
              "      <td>E-SUS</td>\n",
              "      <td>BRASIL</td>\n",
              "      <td>NAO</td>\n",
              "    </tr>\n",
              "    <tr>\n",
              "      <th>1</th>\n",
              "      <td>430003</td>\n",
              "      <td>ACEGUÁ</td>\n",
              "      <td>16</td>\n",
              "      <td>BAGE - R22</td>\n",
              "      <td>Masculino</td>\n",
              "      <td>15 a 19</td>\n",
              "      <td>RT-PCR</td>\n",
              "      <td>06/10/2020</td>\n",
              "      <td>06/10/2020</td>\n",
              "      <td>NaN</td>\n",
              "      <td>RECUPERADO</td>\n",
              "      <td>NAO</td>\n",
              "      <td>NAO</td>\n",
              "      <td>NAO</td>\n",
              "      <td>NAO</td>\n",
              "      <td>NAO</td>\n",
              "      <td>NAO</td>\n",
              "      <td>NaN</td>\n",
              "      <td>NAO</td>\n",
              "      <td>NaN</td>\n",
              "      <td>20/10/2020</td>\n",
              "      <td>BRANCA</td>\n",
              "      <td>NAO ENCONTRADO</td>\n",
              "      <td>NAO</td>\n",
              "      <td>ZONA RURAL</td>\n",
              "      <td>NAO</td>\n",
              "      <td>E-SUS</td>\n",
              "      <td>BRASIL</td>\n",
              "      <td>NAO</td>\n",
              "    </tr>\n",
              "    <tr>\n",
              "      <th>2</th>\n",
              "      <td>430003</td>\n",
              "      <td>ACEGUÁ</td>\n",
              "      <td>16</td>\n",
              "      <td>BAGE - R22</td>\n",
              "      <td>Feminino</td>\n",
              "      <td>40 a 49</td>\n",
              "      <td>RT-PCR</td>\n",
              "      <td>05/10/2020</td>\n",
              "      <td>29/09/2020</td>\n",
              "      <td>NaN</td>\n",
              "      <td>RECUPERADO</td>\n",
              "      <td>NAO</td>\n",
              "      <td>NAO</td>\n",
              "      <td>NAO</td>\n",
              "      <td>NAO</td>\n",
              "      <td>NAO</td>\n",
              "      <td>NAO</td>\n",
              "      <td>NaN</td>\n",
              "      <td>NAO</td>\n",
              "      <td>NaN</td>\n",
              "      <td>13/10/2020</td>\n",
              "      <td>BRANCA</td>\n",
              "      <td>NAO ENCONTRADO</td>\n",
              "      <td>NAO</td>\n",
              "      <td>ZONA RURAL</td>\n",
              "      <td>NAO</td>\n",
              "      <td>E-SUS</td>\n",
              "      <td>BRASIL</td>\n",
              "      <td>NAO</td>\n",
              "    </tr>\n",
              "    <tr>\n",
              "      <th>3</th>\n",
              "      <td>430003</td>\n",
              "      <td>ACEGUÁ</td>\n",
              "      <td>16</td>\n",
              "      <td>BAGE - R22</td>\n",
              "      <td>Feminino</td>\n",
              "      <td>50 a 59</td>\n",
              "      <td>TESTE RÁPIDO</td>\n",
              "      <td>19/10/2020</td>\n",
              "      <td>05/10/2020</td>\n",
              "      <td>NaN</td>\n",
              "      <td>RECUPERADO</td>\n",
              "      <td>NAO</td>\n",
              "      <td>NAO</td>\n",
              "      <td>NAO</td>\n",
              "      <td>NAO</td>\n",
              "      <td>NAO</td>\n",
              "      <td>NAO</td>\n",
              "      <td>NaN</td>\n",
              "      <td>NAO</td>\n",
              "      <td>NaN</td>\n",
              "      <td>19/10/2020</td>\n",
              "      <td>BRANCA</td>\n",
              "      <td>NAO ENCONTRADO</td>\n",
              "      <td>NAO</td>\n",
              "      <td>ZONA RURAL</td>\n",
              "      <td>NAO</td>\n",
              "      <td>E-SUS</td>\n",
              "      <td>BRASIL</td>\n",
              "      <td>NAO</td>\n",
              "    </tr>\n",
              "    <tr>\n",
              "      <th>4</th>\n",
              "      <td>430005</td>\n",
              "      <td>ÁGUA SANTA</td>\n",
              "      <td>14</td>\n",
              "      <td>PASSO FUNDO - R17 R18 R19</td>\n",
              "      <td>Masculino</td>\n",
              "      <td>70 a 79</td>\n",
              "      <td>TESTE RÁPIDO</td>\n",
              "      <td>03/11/2020</td>\n",
              "      <td>28/10/2020</td>\n",
              "      <td>NaN</td>\n",
              "      <td>EM ACOMPANHAMENTO</td>\n",
              "      <td>NAO</td>\n",
              "      <td>NAO</td>\n",
              "      <td>NAO</td>\n",
              "      <td>NAO</td>\n",
              "      <td>NAO</td>\n",
              "      <td>SIM</td>\n",
              "      <td>Doenças cardíacas crônicas</td>\n",
              "      <td>NAO</td>\n",
              "      <td>NaN</td>\n",
              "      <td>NaN</td>\n",
              "      <td>BRANCA</td>\n",
              "      <td>NaN</td>\n",
              "      <td>NAO</td>\n",
              "      <td>INTERIOR</td>\n",
              "      <td>NAO</td>\n",
              "      <td>E-SUS</td>\n",
              "      <td>NaN</td>\n",
              "      <td>NAO</td>\n",
              "    </tr>\n",
              "  </tbody>\n",
              "</table>\n",
              "</div>"
            ],
            "text/plain": [
              "   COD_IBGE   MUNICIPIO  ...  PAIS_NASCIMENTO PES_PRIV_LIBERDADE\n",
              "0    430003      ACEGUÁ  ...           BRASIL                NAO\n",
              "1    430003      ACEGUÁ  ...           BRASIL                NAO\n",
              "2    430003      ACEGUÁ  ...           BRASIL                NAO\n",
              "3    430003      ACEGUÁ  ...           BRASIL                NAO\n",
              "4    430005  ÁGUA SANTA  ...              NaN                NAO\n",
              "\n",
              "[5 rows x 29 columns]"
            ]
          },
          "metadata": {
            "tags": []
          },
          "execution_count": 2
        }
      ]
    },
    {
      "cell_type": "code",
      "metadata": {
        "id": "_G4xC9qdR13h",
        "outputId": "ca02df46-97ed-4769-f539-282f21414522",
        "colab": {
          "base_uri": "https://localhost:8080/"
        }
      },
      "source": [
        "# Qual o tamanho da tabela (linhas, colunas)?\n",
        "dados.shape"
      ],
      "execution_count": 3,
      "outputs": [
        {
          "output_type": "execute_result",
          "data": {
            "text/plain": [
              "(257785, 29)"
            ]
          },
          "metadata": {
            "tags": []
          },
          "execution_count": 3
        }
      ]
    },
    {
      "cell_type": "markdown",
      "metadata": {
        "id": "5iQIW1hFBJs-"
      },
      "source": [
        "# Pré-processamento\n",
        "\n",
        "Os dados raramente vem limpos e prontos para uso. No mínimo, precisamos converter ou adequar tipos e lidar com valores faltantes. Também podemos querer expandir os dados, incluindo novas colunas derivadas dos próprios dados ou de fontes externas."
      ]
    },
    {
      "cell_type": "markdown",
      "metadata": {
        "id": "GZAwPlCWBe6q"
      },
      "source": [
        "Por exemplo, temos várias colunas que são datas, mas estão representadas como strings. É uma boa ideia converter estas strings para datas reais"
      ]
    },
    {
      "cell_type": "code",
      "metadata": {
        "id": "9tOI5KzH7eLF",
        "outputId": "e5f022f1-5059-45ab-c255-c55076cc54c0",
        "colab": {
          "base_uri": "https://localhost:8080/",
          "height": 326
        }
      },
      "source": [
        "dados[\"DATA_CONFIRMACAO\"] = pd.to_datetime(dados[\"DATA_CONFIRMACAO\"], format=\"%d/%m/%Y\")\n",
        "dados[\"DATA_SINTOMAS\"] = pd.to_datetime(dados[\"DATA_SINTOMAS\"], format=\"%d/%m/%Y\")\n",
        "dados[\"DATA_EVOLUCAO\"] = pd.to_datetime(dados[\"DATA_EVOLUCAO\"], format=\"%d/%m/%Y\")\n",
        "dados[\"DATA_INCLUSAO_OBITO\"] = pd.to_datetime(dados[\"DATA_INCLUSAO_OBITO\"], format=\"%d/%m/%Y\")\n",
        "dados[\"DATA_EVOLUCAO_ESTIMADA\"] = pd.to_datetime(dados[\"DATA_EVOLUCAO_ESTIMADA\"], format=\"%d/%m/%Y\")\n",
        "\n",
        "dados.head()"
      ],
      "execution_count": 4,
      "outputs": [
        {
          "output_type": "execute_result",
          "data": {
            "text/html": [
              "<div>\n",
              "<style scoped>\n",
              "    .dataframe tbody tr th:only-of-type {\n",
              "        vertical-align: middle;\n",
              "    }\n",
              "\n",
              "    .dataframe tbody tr th {\n",
              "        vertical-align: top;\n",
              "    }\n",
              "\n",
              "    .dataframe thead th {\n",
              "        text-align: right;\n",
              "    }\n",
              "</style>\n",
              "<table border=\"1\" class=\"dataframe\">\n",
              "  <thead>\n",
              "    <tr style=\"text-align: right;\">\n",
              "      <th></th>\n",
              "      <th>COD_IBGE</th>\n",
              "      <th>MUNICIPIO</th>\n",
              "      <th>COD_REGIAO_COVID</th>\n",
              "      <th>REGIAO_COVID</th>\n",
              "      <th>SEXO</th>\n",
              "      <th>FAIXAETARIA</th>\n",
              "      <th>CRITERIO</th>\n",
              "      <th>DATA_CONFIRMACAO</th>\n",
              "      <th>DATA_SINTOMAS</th>\n",
              "      <th>DATA_EVOLUCAO</th>\n",
              "      <th>EVOLUCAO</th>\n",
              "      <th>HOSPITALIZADO</th>\n",
              "      <th>FEBRE</th>\n",
              "      <th>TOSSE</th>\n",
              "      <th>GARGANTA</th>\n",
              "      <th>DISPNEIA</th>\n",
              "      <th>OUTROS</th>\n",
              "      <th>CONDICOES</th>\n",
              "      <th>GESTANTE</th>\n",
              "      <th>DATA_INCLUSAO_OBITO</th>\n",
              "      <th>DATA_EVOLUCAO_ESTIMADA</th>\n",
              "      <th>RACA_COR</th>\n",
              "      <th>ETNIA_INDIGENA</th>\n",
              "      <th>PROFISSIONAL_SAUDE</th>\n",
              "      <th>BAIRRO</th>\n",
              "      <th>HOSPITALIZACAO_SRAG</th>\n",
              "      <th>FONTE_INFORMACAO</th>\n",
              "      <th>PAIS_NASCIMENTO</th>\n",
              "      <th>PES_PRIV_LIBERDADE</th>\n",
              "    </tr>\n",
              "  </thead>\n",
              "  <tbody>\n",
              "    <tr>\n",
              "      <th>0</th>\n",
              "      <td>430003</td>\n",
              "      <td>ACEGUÁ</td>\n",
              "      <td>16</td>\n",
              "      <td>BAGE - R22</td>\n",
              "      <td>Feminino</td>\n",
              "      <td>20 a 29</td>\n",
              "      <td>RT-PCR</td>\n",
              "      <td>2020-09-11</td>\n",
              "      <td>2020-09-08</td>\n",
              "      <td>NaT</td>\n",
              "      <td>RECUPERADO</td>\n",
              "      <td>NAO</td>\n",
              "      <td>SIM</td>\n",
              "      <td>NAO</td>\n",
              "      <td>SIM</td>\n",
              "      <td>NAO</td>\n",
              "      <td>NAO</td>\n",
              "      <td>Gestante</td>\n",
              "      <td>SIM</td>\n",
              "      <td>NaT</td>\n",
              "      <td>2020-09-22</td>\n",
              "      <td>NAO INFORMADO</td>\n",
              "      <td>NAO ENCONTRADO</td>\n",
              "      <td>NAO INFORMADO</td>\n",
              "      <td>NaN</td>\n",
              "      <td>NAO</td>\n",
              "      <td>E-SUS</td>\n",
              "      <td>BRASIL</td>\n",
              "      <td>NAO</td>\n",
              "    </tr>\n",
              "    <tr>\n",
              "      <th>1</th>\n",
              "      <td>430003</td>\n",
              "      <td>ACEGUÁ</td>\n",
              "      <td>16</td>\n",
              "      <td>BAGE - R22</td>\n",
              "      <td>Masculino</td>\n",
              "      <td>15 a 19</td>\n",
              "      <td>RT-PCR</td>\n",
              "      <td>2020-10-06</td>\n",
              "      <td>2020-10-06</td>\n",
              "      <td>NaT</td>\n",
              "      <td>RECUPERADO</td>\n",
              "      <td>NAO</td>\n",
              "      <td>NAO</td>\n",
              "      <td>NAO</td>\n",
              "      <td>NAO</td>\n",
              "      <td>NAO</td>\n",
              "      <td>NAO</td>\n",
              "      <td>NaN</td>\n",
              "      <td>NAO</td>\n",
              "      <td>NaT</td>\n",
              "      <td>2020-10-20</td>\n",
              "      <td>BRANCA</td>\n",
              "      <td>NAO ENCONTRADO</td>\n",
              "      <td>NAO</td>\n",
              "      <td>ZONA RURAL</td>\n",
              "      <td>NAO</td>\n",
              "      <td>E-SUS</td>\n",
              "      <td>BRASIL</td>\n",
              "      <td>NAO</td>\n",
              "    </tr>\n",
              "    <tr>\n",
              "      <th>2</th>\n",
              "      <td>430003</td>\n",
              "      <td>ACEGUÁ</td>\n",
              "      <td>16</td>\n",
              "      <td>BAGE - R22</td>\n",
              "      <td>Feminino</td>\n",
              "      <td>40 a 49</td>\n",
              "      <td>RT-PCR</td>\n",
              "      <td>2020-10-05</td>\n",
              "      <td>2020-09-29</td>\n",
              "      <td>NaT</td>\n",
              "      <td>RECUPERADO</td>\n",
              "      <td>NAO</td>\n",
              "      <td>NAO</td>\n",
              "      <td>NAO</td>\n",
              "      <td>NAO</td>\n",
              "      <td>NAO</td>\n",
              "      <td>NAO</td>\n",
              "      <td>NaN</td>\n",
              "      <td>NAO</td>\n",
              "      <td>NaT</td>\n",
              "      <td>2020-10-13</td>\n",
              "      <td>BRANCA</td>\n",
              "      <td>NAO ENCONTRADO</td>\n",
              "      <td>NAO</td>\n",
              "      <td>ZONA RURAL</td>\n",
              "      <td>NAO</td>\n",
              "      <td>E-SUS</td>\n",
              "      <td>BRASIL</td>\n",
              "      <td>NAO</td>\n",
              "    </tr>\n",
              "    <tr>\n",
              "      <th>3</th>\n",
              "      <td>430003</td>\n",
              "      <td>ACEGUÁ</td>\n",
              "      <td>16</td>\n",
              "      <td>BAGE - R22</td>\n",
              "      <td>Feminino</td>\n",
              "      <td>50 a 59</td>\n",
              "      <td>TESTE RÁPIDO</td>\n",
              "      <td>2020-10-19</td>\n",
              "      <td>2020-10-05</td>\n",
              "      <td>NaT</td>\n",
              "      <td>RECUPERADO</td>\n",
              "      <td>NAO</td>\n",
              "      <td>NAO</td>\n",
              "      <td>NAO</td>\n",
              "      <td>NAO</td>\n",
              "      <td>NAO</td>\n",
              "      <td>NAO</td>\n",
              "      <td>NaN</td>\n",
              "      <td>NAO</td>\n",
              "      <td>NaT</td>\n",
              "      <td>2020-10-19</td>\n",
              "      <td>BRANCA</td>\n",
              "      <td>NAO ENCONTRADO</td>\n",
              "      <td>NAO</td>\n",
              "      <td>ZONA RURAL</td>\n",
              "      <td>NAO</td>\n",
              "      <td>E-SUS</td>\n",
              "      <td>BRASIL</td>\n",
              "      <td>NAO</td>\n",
              "    </tr>\n",
              "    <tr>\n",
              "      <th>4</th>\n",
              "      <td>430005</td>\n",
              "      <td>ÁGUA SANTA</td>\n",
              "      <td>14</td>\n",
              "      <td>PASSO FUNDO - R17 R18 R19</td>\n",
              "      <td>Masculino</td>\n",
              "      <td>70 a 79</td>\n",
              "      <td>TESTE RÁPIDO</td>\n",
              "      <td>2020-11-03</td>\n",
              "      <td>2020-10-28</td>\n",
              "      <td>NaT</td>\n",
              "      <td>EM ACOMPANHAMENTO</td>\n",
              "      <td>NAO</td>\n",
              "      <td>NAO</td>\n",
              "      <td>NAO</td>\n",
              "      <td>NAO</td>\n",
              "      <td>NAO</td>\n",
              "      <td>SIM</td>\n",
              "      <td>Doenças cardíacas crônicas</td>\n",
              "      <td>NAO</td>\n",
              "      <td>NaT</td>\n",
              "      <td>NaT</td>\n",
              "      <td>BRANCA</td>\n",
              "      <td>NaN</td>\n",
              "      <td>NAO</td>\n",
              "      <td>INTERIOR</td>\n",
              "      <td>NAO</td>\n",
              "      <td>E-SUS</td>\n",
              "      <td>NaN</td>\n",
              "      <td>NAO</td>\n",
              "    </tr>\n",
              "  </tbody>\n",
              "</table>\n",
              "</div>"
            ],
            "text/plain": [
              "   COD_IBGE   MUNICIPIO  ...  PAIS_NASCIMENTO PES_PRIV_LIBERDADE\n",
              "0    430003      ACEGUÁ  ...           BRASIL                NAO\n",
              "1    430003      ACEGUÁ  ...           BRASIL                NAO\n",
              "2    430003      ACEGUÁ  ...           BRASIL                NAO\n",
              "3    430003      ACEGUÁ  ...           BRASIL                NAO\n",
              "4    430005  ÁGUA SANTA  ...              NaN                NAO\n",
              "\n",
              "[5 rows x 29 columns]"
            ]
          },
          "metadata": {
            "tags": []
          },
          "execution_count": 4
        }
      ]
    },
    {
      "cell_type": "markdown",
      "metadata": {
        "id": "7_APEyPgAWb0"
      },
      "source": [
        "Algumas colunas possuem vários \"NaN\" (Not a Number) ou \"NaT\" (Not a Time), \n",
        "\n",
        "1.   Item da lista\n",
        "2.   Item da lista\n",
        "\n",
        "indicando que são valores faltantes.\n",
        "\n",
        "Há diversas maneiras de lidar com buracos nos dados, vamos primeiro quantificar o problema contando o número de buracos por coluna.\n"
      ]
    },
    {
      "cell_type": "code",
      "metadata": {
        "id": "ZMxJQd4Tx4UO",
        "outputId": "ecb69011-cfa2-4b30-fa74-69457ff62e99",
        "colab": {
          "base_uri": "https://localhost:8080/",
          "height": 447
        }
      },
      "source": [
        "rows = []\n",
        "for column in dados.columns:\n",
        "  row = {'coluna': column, 'nans': dados[column].isnull().sum(), 'frac_nans': dados[column].isnull().sum() / dados.shape[0]}\n",
        "  rows.append(row)\n",
        "res = pd.DataFrame(rows)\n",
        "res[res.nans>0].sort_values('nans', ascending=False)"
      ],
      "execution_count": 5,
      "outputs": [
        {
          "output_type": "execute_result",
          "data": {
            "text/html": [
              "<div>\n",
              "<style scoped>\n",
              "    .dataframe tbody tr th:only-of-type {\n",
              "        vertical-align: middle;\n",
              "    }\n",
              "\n",
              "    .dataframe tbody tr th {\n",
              "        vertical-align: top;\n",
              "    }\n",
              "\n",
              "    .dataframe thead th {\n",
              "        text-align: right;\n",
              "    }\n",
              "</style>\n",
              "<table border=\"1\" class=\"dataframe\">\n",
              "  <thead>\n",
              "    <tr style=\"text-align: right;\">\n",
              "      <th></th>\n",
              "      <th>coluna</th>\n",
              "      <th>nans</th>\n",
              "      <th>frac_nans</th>\n",
              "    </tr>\n",
              "  </thead>\n",
              "  <tbody>\n",
              "    <tr>\n",
              "      <th>19</th>\n",
              "      <td>DATA_INCLUSAO_OBITO</td>\n",
              "      <td>251812</td>\n",
              "      <td>0.976830</td>\n",
              "    </tr>\n",
              "    <tr>\n",
              "      <th>9</th>\n",
              "      <td>DATA_EVOLUCAO</td>\n",
              "      <td>238765</td>\n",
              "      <td>0.926218</td>\n",
              "    </tr>\n",
              "    <tr>\n",
              "      <th>17</th>\n",
              "      <td>CONDICOES</td>\n",
              "      <td>217368</td>\n",
              "      <td>0.843214</td>\n",
              "    </tr>\n",
              "    <tr>\n",
              "      <th>20</th>\n",
              "      <td>DATA_EVOLUCAO_ESTIMADA</td>\n",
              "      <td>29058</td>\n",
              "      <td>0.112722</td>\n",
              "    </tr>\n",
              "    <tr>\n",
              "      <th>27</th>\n",
              "      <td>PAIS_NASCIMENTO</td>\n",
              "      <td>13358</td>\n",
              "      <td>0.051818</td>\n",
              "    </tr>\n",
              "    <tr>\n",
              "      <th>22</th>\n",
              "      <td>ETNIA_INDIGENA</td>\n",
              "      <td>13004</td>\n",
              "      <td>0.050445</td>\n",
              "    </tr>\n",
              "    <tr>\n",
              "      <th>24</th>\n",
              "      <td>BAIRRO</td>\n",
              "      <td>4975</td>\n",
              "      <td>0.019299</td>\n",
              "    </tr>\n",
              "    <tr>\n",
              "      <th>15</th>\n",
              "      <td>DISPNEIA</td>\n",
              "      <td>3037</td>\n",
              "      <td>0.011781</td>\n",
              "    </tr>\n",
              "    <tr>\n",
              "      <th>12</th>\n",
              "      <td>FEBRE</td>\n",
              "      <td>20</td>\n",
              "      <td>0.000078</td>\n",
              "    </tr>\n",
              "    <tr>\n",
              "      <th>13</th>\n",
              "      <td>TOSSE</td>\n",
              "      <td>20</td>\n",
              "      <td>0.000078</td>\n",
              "    </tr>\n",
              "    <tr>\n",
              "      <th>14</th>\n",
              "      <td>GARGANTA</td>\n",
              "      <td>20</td>\n",
              "      <td>0.000078</td>\n",
              "    </tr>\n",
              "    <tr>\n",
              "      <th>16</th>\n",
              "      <td>OUTROS</td>\n",
              "      <td>20</td>\n",
              "      <td>0.000078</td>\n",
              "    </tr>\n",
              "    <tr>\n",
              "      <th>26</th>\n",
              "      <td>FONTE_INFORMACAO</td>\n",
              "      <td>14</td>\n",
              "      <td>0.000054</td>\n",
              "    </tr>\n",
              "  </tbody>\n",
              "</table>\n",
              "</div>"
            ],
            "text/plain": [
              "                    coluna    nans  frac_nans\n",
              "19     DATA_INCLUSAO_OBITO  251812   0.976830\n",
              "9            DATA_EVOLUCAO  238765   0.926218\n",
              "17               CONDICOES  217368   0.843214\n",
              "20  DATA_EVOLUCAO_ESTIMADA   29058   0.112722\n",
              "27         PAIS_NASCIMENTO   13358   0.051818\n",
              "22          ETNIA_INDIGENA   13004   0.050445\n",
              "24                  BAIRRO    4975   0.019299\n",
              "15                DISPNEIA    3037   0.011781\n",
              "12                   FEBRE      20   0.000078\n",
              "13                   TOSSE      20   0.000078\n",
              "14                GARGANTA      20   0.000078\n",
              "16                  OUTROS      20   0.000078\n",
              "26        FONTE_INFORMACAO      14   0.000054"
            ]
          },
          "metadata": {
            "tags": []
          },
          "execution_count": 5
        }
      ]
    },
    {
      "cell_type": "markdown",
      "metadata": {
        "id": "_bCcYP4QAcwN"
      },
      "source": [
        "De potencial interesse temos a coluna `DATA_INCLUSAO_OBITO`.\n",
        "\n",
        "Vemos que o numero de valores existentes é de cerca de 5 mil, o que coincide o numero de óbitos totais no RS. Assim, uma suposição razoável (que precisaria ser VALIDADA) é que um dado faltante indica que não houve óbito para aquele indivíduo. Vamos criar uma nova coluna `OBITO` indicando isso\n"
      ]
    },
    {
      "cell_type": "code",
      "metadata": {
        "id": "Y7qlu0OZ3WmA"
      },
      "source": [
        "# O método apply aplica uma função a cada linha do objeto\n",
        "# Ao invés de definirmos uma função externa, usamos a funcionalidade \"lambda\" que permite criar uma função local\n",
        "# Assim, na nova coluna teremos SIM se houver uma data e NAO se o valor for nulo\n",
        "\n",
        "dados[\"OBITO\"] = dados[\"DATA_INCLUSAO_OBITO\"].apply(lambda x: \"NAO\" if pd.isnull(x) else \"SIM\")"
      ],
      "execution_count": 6,
      "outputs": []
    },
    {
      "cell_type": "markdown",
      "metadata": {
        "id": "JrzdBcaiAoC9"
      },
      "source": [
        "Vamos tratar outra coluna. `DISPNEIA` possui 1% dos valores faltando. Poderíamos preencher os valores faltantes com SIM ou NAO aleatoriamente, seguindo a distribuição do resto dos dados. Outra alternativa é atribuir um novo valor, como \"FALTANDO\", pois a falta deste valor pode ser um indicador. Vamos com esta última, utilizando a função `fillna` do pandas, que preenche valores faltantes com algum valor\n"
      ]
    },
    {
      "cell_type": "code",
      "metadata": {
        "id": "BfCyNd4IyoaF"
      },
      "source": [
        "dados[\"DISPNEIA\"] = dados[\"DISPNEIA\"].fillna(0)"
      ],
      "execution_count": 7,
      "outputs": []
    },
    {
      "cell_type": "markdown",
      "metadata": {
        "id": "6V4iI5v1Azlt"
      },
      "source": [
        "Para FEBRE, vamos adotar a outra alternativa e preencher os dados faltantes com valores aleatorios, mas que seguem a distribuição dos dados. Note: nem idéia se isso é uma suposição razoável e você vai querer pensar sobre isso antes de adotar a solução.\n"
      ]
    },
    {
      "cell_type": "code",
      "metadata": {
        "id": "el0BMB2A7ZfB",
        "outputId": "e436ca77-28bf-4b89-a64c-584afeb072b5",
        "colab": {
          "base_uri": "https://localhost:8080/"
        }
      },
      "source": [
        "import numpy as np\n",
        "\n",
        "dist = dados[\"FEBRE\"].value_counts(normalize=True)\n",
        "faltantes = dados['FEBRE'].isnull()\n",
        "dados.loc[faltantes,'FEBRE'] = np.random.choice(dist.index, size=len(dados[faltantes]), p=dist.values)\n",
        "\n",
        "# Testando para ver se não há mais valores faltantes\n",
        "dados[\"FEBRE\"].isnull().any()"
      ],
      "execution_count": 8,
      "outputs": [
        {
          "output_type": "execute_result",
          "data": {
            "text/plain": [
              "False"
            ]
          },
          "metadata": {
            "tags": []
          },
          "execution_count": 8
        }
      ]
    },
    {
      "cell_type": "markdown",
      "metadata": {
        "id": "QsRyHC5z_5Ne"
      },
      "source": [
        "Neste ponto devemos continuar tratando as colunas com dados faltantes. A exceção é se não usaremos estas colunas nas etapas posteriores. Ainda que em alguns casos ter valores faltantes não é um problema, acaba-se por jogar a responsabilidade de como lidar com isso para módulos e bibliotecas, o que reduz a transparência do modelo resultante. Sempre que possível, é ideal lidar com dados faltantes antes das demais etapas."
      ]
    },
    {
      "cell_type": "markdown",
      "metadata": {
        "id": "192rwOesvrP3"
      },
      "source": [
        "# Padronização dos **dados**"
      ]
    },
    {
      "cell_type": "code",
      "metadata": {
        "id": "h7Kl9MNqLx0H"
      },
      "source": [
        "from sklearn.preprocessing import MultiLabelBinarizer\n",
        "# função que padroniza os nomes das condições\n",
        "def padroniza_itens(lista):\n",
        "   # para cada condição da lista de condições do paciente\n",
        "   for i in range(len(lista)):\n",
        "      # remove caracteres em branco do início ou final da string\n",
        "      lista[i] = lista[i].strip()\n",
        "      # verifica se a condição apresenta falta de um caractere em sua última palavra\n",
        "      # e, caso positivo, realiza a devida correção/substituição\n",
        "      if lista[i].endswith(\"Asm\"): lista[i] = lista[i].replace(\"Asm\", \"Asma\")\n",
        "      if lista[i].endswith(\"mellitu\"): lista[i] = lista[i].replace(\"mellitu\", \"mellitus\")\n",
        "      if lista[i].endswith(\"Crônic\"): lista[i] = lista[i].replace(\"Crônic\", \"Crônica\")\n",
        "      if lista[i].endswith(\"Imunodeficiênci\"): lista[i] = lista[i].replace(\"Imunodeficiênci\", \"Imunodeficiência\")\n",
        "      if lista[i].endswith(\"Obesidad\"): lista[i] = lista[i].replace(\"Obesidad\", \"Obesidade\")\n",
        "      if lista[i].endswith(\"Outro\"): lista[i] = lista[i].replace(\"Outro\", \"Outros\")\n",
        "   # retorna a lista padronizada\n",
        "   return lista\n",
        "\n",
        "\n"
      ],
      "execution_count": 9,
      "outputs": []
    },
    {
      "cell_type": "markdown",
      "metadata": {
        "id": "oVdfku681rGL"
      },
      "source": [
        "**Binarização das categorias**\n"
      ]
    },
    {
      "cell_type": "code",
      "metadata": {
        "id": "4zSMOG9T1xOq"
      },
      "source": [
        "def binariza_multi_categoricos(dataset):\n",
        "   # Remove a vírgula do nome de uma das possíveis condições dos pacientes e, após, transforma as strings de condições\n",
        "   # em listas, separando cada condição da string com o auxílio da função split, considerando a vírgula como separador.\n",
        "   dataset['CONDICOES'] = dataset['CONDICOES'].apply(lambda x: (str(x).replace(\"(graus 3, 4 ou 5)\", \"(graus 3 4 ou 5)\").split(\",\")))\n",
        "\n",
        "   # padroniza a nomenclatura das condições, através da função 'padroniza_itens',\n",
        "   # para evitar múltiplos atributos relacionados a uma mesma condição\n",
        "   dataset['CONDICOES'] = dataset['CONDICOES'].apply(lambda x: padroniza_itens(x))\n",
        "\n",
        "   # Com as listas de condições ajustadas, aplica o MultiLabelBinarizer\n",
        "   cod = MultiLabelBinarizer()\n",
        "   cod.fit(dataset['CONDICOES'])\n",
        "   atributo_transformado = cod.transform(dataset['CONDICOES'])\n",
        "   onehot = pd.DataFrame(atributo_transformado)\n",
        "   onehot.columns = pd.Series(cod.classes_).apply(lambda x: 'CONDICOES' + '_' + x)\n",
        "   dataset = pd.concat([dataset, onehot], axis=1).drop(['CONDICOES'], axis=1)\n",
        "   return dataset\n",
        "\n",
        "dados = binariza_multi_categoricos(dados)"
      ],
      "execution_count": 10,
      "outputs": []
    },
    {
      "cell_type": "code",
      "metadata": {
        "id": "-NN7glGXOFsJ"
      },
      "source": [
        "def binariza_sintomas(dataset):\n",
        "\n",
        "# Binarizando as colunas\n",
        "\n",
        "      dataset['HOSPITALIZADO']=dataset['HOSPITALIZADO'].replace('SIM',1)\n",
        "      dataset['HOSPITALIZADO']=dataset['HOSPITALIZADO'].replace('NAO',0)\n",
        "      dataset['HOSPITALIZADO']=dataset['HOSPITALIZADO'].replace(np.nan,0)\n",
        "\n",
        "      dataset['FEBRE']=dataset['FEBRE'].replace('SIM',1)\n",
        "      dataset['FEBRE']=dataset['FEBRE'].replace('NAO',0)\n",
        "      dataset['FEBRE']=dataset['FEBRE'].replace(np.nan,0)\n",
        "\n",
        "      dataset['TOSSE']=dataset['TOSSE'].replace('SIM',1)\n",
        "      dataset['TOSSE']=dataset['TOSSE'].replace('NAO',0)\n",
        "      dataset['TOSSE']=dataset['TOSSE'].replace(np.nan,0)\n",
        "\n",
        "      dataset['GARGANTA']=dataset['GARGANTA'].replace('SIM',1)\n",
        "      dataset['GARGANTA']=dataset['GARGANTA'].replace('NAO',0)\n",
        "      dataset['GARGANTA']=dataset['GARGANTA'].replace(np.nan,0)\n",
        "\n",
        "      dataset['DISPNEIA']=dataset['DISPNEIA'].replace('SIM',1)\n",
        "      dataset['DISPNEIA']=dataset['DISPNEIA'].replace('NAO',0)\n",
        "      dataset['DISPNEIA']=dataset['DISPNEIA'].replace(np.nan,0)\n",
        "\n",
        "      dataset['OUTROS']=dataset['OUTROS'].replace('SIM',1)\n",
        "      dataset['OUTROS']=dataset['OUTROS'].replace('NAO',0)\n",
        "      dataset['OUTROS']=dataset['OUTROS'].replace(np.nan,0)\n",
        "\n",
        "      dataset['GESTANTE']=dataset['GESTANTE'].replace('SIM',1)\n",
        "      dataset['GESTANTE']=dataset['GESTANTE'].replace('NAO',0)\n",
        "      dataset['GESTANTE']=dataset['GESTANTE'].replace(np.nan,0)\n",
        "\n",
        "      dataset['EVOLUCAO']=dataset['EVOLUCAO'].replace('OBITO',1)\n",
        "      dataset['EVOLUCAO']=dataset['EVOLUCAO'].replace('RECUPERADO',0)\n",
        "      dataset['EVOLUCAO']=dataset['EVOLUCAO'].replace('OBITO OUTRAS CAUSAS',2)\n",
        "      dataset['EVOLUCAO']=dataset['EVOLUCAO'].replace('EM ACOMPANHAMENTO',3)\n",
        "      dataset['EVOLUCAO']=dataset['EVOLUCAO'].replace(np.nan,0)\n",
        "     \n",
        "      dataset['OBITO']=dataset['OBITO'].replace('SIM',1)\n",
        "      dataset['OBITO']=dataset['OBITO'].replace('NAO',0)\n",
        "      dataset['OBITO']=dataset['OBITO'].replace(np.nan,0)\n",
        "       \n",
        "      dataset['CRITERIO']=dataset['CRITERIO'].replace('RT-PCR',1)\n",
        "      dataset['CRITERIO']=dataset['CRITERIO'].replace('TESTE RÁPIDO',0)\n",
        "      dataset['CRITERIO']=dataset['CRITERIO'].replace(np.nan,0)\n",
        "\n",
        "\n",
        "      return dataset  \n",
        "dados_colunas_bin = binariza_sintomas(dados)"
      ],
      "execution_count": 11,
      "outputs": []
    },
    {
      "cell_type": "markdown",
      "metadata": {
        "id": "_3iaNb06GcSH"
      },
      "source": [
        "**Excluindo as colunas desnecessarias e gerando um novo dataframe com as colunas que interessam**"
      ]
    },
    {
      "cell_type": "code",
      "metadata": {
        "id": "G7zUwQiySwqi"
      },
      "source": [
        "def deleta_col(dataset):\n",
        "\n",
        "     dataframenovo = dataset.drop(['COD_IBGE'], axis='columns')\n",
        "     dataframenovo = dataframenovo.drop(['MUNICIPIO'], axis='columns')\n",
        "     dataframenovo = dataframenovo.drop(['COD_REGIAO_COVID'], axis='columns')\n",
        "     dataframenovo = dataframenovo.drop(['REGIAO_COVID'], axis='columns')\n",
        "     dataframenovo = dataframenovo.drop(['SEXO'], axis='columns')\n",
        "     dataframenovo = dataframenovo.drop(['FAIXAETARIA'], axis='columns')\n",
        "     dataframenovo = dataframenovo.drop(['DATA_CONFIRMACAO'], axis='columns')\n",
        "     dataframenovo = dataframenovo.drop(['DATA_SINTOMAS'], axis='columns')\n",
        "     dataframenovo = dataframenovo.drop(['DATA_INCLUSAO_OBITO'], axis='columns')\n",
        "     dataframenovo = dataframenovo.drop(['DATA_EVOLUCAO'], axis='columns')\n",
        "     dataframenovo = dataframenovo.drop(['DATA_EVOLUCAO_ESTIMADA'], axis='columns')\n",
        "     dataframenovo = dataframenovo.drop(['RACA_COR'], axis='columns')\n",
        "     dataframenovo = dataframenovo.drop(['ETNIA_INDIGENA'], axis='columns')\n",
        "     dataframenovo = dataframenovo.drop(['PROFISSIONAL_SAUDE'], axis='columns')\n",
        "     dataframenovo = dataframenovo.drop(['BAIRRO'], axis='columns')\n",
        "     dataframenovo = dataframenovo.drop(['HOSPITALIZACAO_SRAG'], axis='columns')\n",
        "     dataframenovo = dataframenovo.drop(['FONTE_INFORMACAO'], axis='columns')\n",
        "     dataframenovo = dataframenovo.drop(['PAIS_NASCIMENTO'], axis='columns')\n",
        "     dataframenovo = dataframenovo.drop(['PES_PRIV_LIBERDADE'], axis='columns')\n",
        "     dataframenovo = dataframenovo.drop(['CRITERIO'], axis='columns')\n",
        "     dataframenovo = dataframenovo.drop(['OBITO'], axis='columns')\n",
        "     dataframenovo = dataframenovo.drop(['EVOLUCAO'], axis='columns')\n",
        "   \n",
        "     return dataframenovo\n",
        "dados_importantes = deleta_col(dados_colunas_bin)"
      ],
      "execution_count": 12,
      "outputs": []
    },
    {
      "cell_type": "code",
      "metadata": {
        "id": "rY1yk9XHjVWe",
        "outputId": "f54ee4d8-1063-4caa-e644-caf7683452ce",
        "colab": {
          "base_uri": "https://localhost:8080/",
          "height": 522
        }
      },
      "source": [
        "dados_importantes\n"
      ],
      "execution_count": 14,
      "outputs": [
        {
          "output_type": "execute_result",
          "data": {
            "text/html": [
              "<div>\n",
              "<style scoped>\n",
              "    .dataframe tbody tr th:only-of-type {\n",
              "        vertical-align: middle;\n",
              "    }\n",
              "\n",
              "    .dataframe tbody tr th {\n",
              "        vertical-align: top;\n",
              "    }\n",
              "\n",
              "    .dataframe thead th {\n",
              "        text-align: right;\n",
              "    }\n",
              "</style>\n",
              "<table border=\"1\" class=\"dataframe\">\n",
              "  <thead>\n",
              "    <tr style=\"text-align: right;\">\n",
              "      <th></th>\n",
              "      <th>HOSPITALIZADO</th>\n",
              "      <th>FEBRE</th>\n",
              "      <th>TOSSE</th>\n",
              "      <th>GARGANTA</th>\n",
              "      <th>DISPNEIA</th>\n",
              "      <th>OUTROS</th>\n",
              "      <th>GESTANTE</th>\n",
              "      <th>CONDICOES_Asma</th>\n",
              "      <th>CONDICOES_Diabetes</th>\n",
              "      <th>CONDICOES_Diabetes mellitus</th>\n",
              "      <th>CONDICOES_Doença Cardiovascular Crônica</th>\n",
              "      <th>CONDICOES_Doença Hematológica Crônica</th>\n",
              "      <th>CONDICOES_Doença Hepática Crônica</th>\n",
              "      <th>CONDICOES_Doença Neurológica Crônica</th>\n",
              "      <th>CONDICOES_Doença Renal Crônica</th>\n",
              "      <th>CONDICOES_Doenças cardíacas crônicas</th>\n",
              "      <th>CONDICOES_Doenças renais crônicas em estágio avançado (graus 3 4 ou 5)</th>\n",
              "      <th>CONDICOES_Doenças respiratórias crônicas descompensadas</th>\n",
              "      <th>CONDICOES_Gestante</th>\n",
              "      <th>CONDICOES_Gestante de alto risco</th>\n",
              "      <th>CONDICOES_Imunodeficiência</th>\n",
              "      <th>CONDICOES_Imunossupressão</th>\n",
              "      <th>CONDICOES_Obesidade</th>\n",
              "      <th>CONDICOES_Outra Pneumatopatia Crônica</th>\n",
              "      <th>CONDICOES_Outros</th>\n",
              "      <th>CONDICOES_Pneumatopatia Crônica</th>\n",
              "      <th>CONDICOES_Portador de doenças cromossômicas ou estado de fragilidade imunológica</th>\n",
              "      <th>CONDICOES_Puérpera</th>\n",
              "      <th>CONDICOES_Puérpera (até 45 dias do parto)</th>\n",
              "      <th>CONDICOES_Síndrome de Down</th>\n",
              "      <th>CONDICOES_nan</th>\n",
              "    </tr>\n",
              "  </thead>\n",
              "  <tbody>\n",
              "    <tr>\n",
              "      <th>0</th>\n",
              "      <td>0</td>\n",
              "      <td>1</td>\n",
              "      <td>0.0</td>\n",
              "      <td>1.0</td>\n",
              "      <td>0</td>\n",
              "      <td>0.0</td>\n",
              "      <td>1</td>\n",
              "      <td>0</td>\n",
              "      <td>0</td>\n",
              "      <td>0</td>\n",
              "      <td>0</td>\n",
              "      <td>0</td>\n",
              "      <td>0</td>\n",
              "      <td>0</td>\n",
              "      <td>0</td>\n",
              "      <td>0</td>\n",
              "      <td>0</td>\n",
              "      <td>0</td>\n",
              "      <td>1</td>\n",
              "      <td>0</td>\n",
              "      <td>0</td>\n",
              "      <td>0</td>\n",
              "      <td>0</td>\n",
              "      <td>0</td>\n",
              "      <td>0</td>\n",
              "      <td>0</td>\n",
              "      <td>0</td>\n",
              "      <td>0</td>\n",
              "      <td>0</td>\n",
              "      <td>0</td>\n",
              "      <td>0</td>\n",
              "    </tr>\n",
              "    <tr>\n",
              "      <th>1</th>\n",
              "      <td>0</td>\n",
              "      <td>0</td>\n",
              "      <td>0.0</td>\n",
              "      <td>0.0</td>\n",
              "      <td>0</td>\n",
              "      <td>0.0</td>\n",
              "      <td>0</td>\n",
              "      <td>0</td>\n",
              "      <td>0</td>\n",
              "      <td>0</td>\n",
              "      <td>0</td>\n",
              "      <td>0</td>\n",
              "      <td>0</td>\n",
              "      <td>0</td>\n",
              "      <td>0</td>\n",
              "      <td>0</td>\n",
              "      <td>0</td>\n",
              "      <td>0</td>\n",
              "      <td>0</td>\n",
              "      <td>0</td>\n",
              "      <td>0</td>\n",
              "      <td>0</td>\n",
              "      <td>0</td>\n",
              "      <td>0</td>\n",
              "      <td>0</td>\n",
              "      <td>0</td>\n",
              "      <td>0</td>\n",
              "      <td>0</td>\n",
              "      <td>0</td>\n",
              "      <td>0</td>\n",
              "      <td>1</td>\n",
              "    </tr>\n",
              "    <tr>\n",
              "      <th>2</th>\n",
              "      <td>0</td>\n",
              "      <td>0</td>\n",
              "      <td>0.0</td>\n",
              "      <td>0.0</td>\n",
              "      <td>0</td>\n",
              "      <td>0.0</td>\n",
              "      <td>0</td>\n",
              "      <td>0</td>\n",
              "      <td>0</td>\n",
              "      <td>0</td>\n",
              "      <td>0</td>\n",
              "      <td>0</td>\n",
              "      <td>0</td>\n",
              "      <td>0</td>\n",
              "      <td>0</td>\n",
              "      <td>0</td>\n",
              "      <td>0</td>\n",
              "      <td>0</td>\n",
              "      <td>0</td>\n",
              "      <td>0</td>\n",
              "      <td>0</td>\n",
              "      <td>0</td>\n",
              "      <td>0</td>\n",
              "      <td>0</td>\n",
              "      <td>0</td>\n",
              "      <td>0</td>\n",
              "      <td>0</td>\n",
              "      <td>0</td>\n",
              "      <td>0</td>\n",
              "      <td>0</td>\n",
              "      <td>1</td>\n",
              "    </tr>\n",
              "    <tr>\n",
              "      <th>3</th>\n",
              "      <td>0</td>\n",
              "      <td>0</td>\n",
              "      <td>0.0</td>\n",
              "      <td>0.0</td>\n",
              "      <td>0</td>\n",
              "      <td>0.0</td>\n",
              "      <td>0</td>\n",
              "      <td>0</td>\n",
              "      <td>0</td>\n",
              "      <td>0</td>\n",
              "      <td>0</td>\n",
              "      <td>0</td>\n",
              "      <td>0</td>\n",
              "      <td>0</td>\n",
              "      <td>0</td>\n",
              "      <td>0</td>\n",
              "      <td>0</td>\n",
              "      <td>0</td>\n",
              "      <td>0</td>\n",
              "      <td>0</td>\n",
              "      <td>0</td>\n",
              "      <td>0</td>\n",
              "      <td>0</td>\n",
              "      <td>0</td>\n",
              "      <td>0</td>\n",
              "      <td>0</td>\n",
              "      <td>0</td>\n",
              "      <td>0</td>\n",
              "      <td>0</td>\n",
              "      <td>0</td>\n",
              "      <td>1</td>\n",
              "    </tr>\n",
              "    <tr>\n",
              "      <th>4</th>\n",
              "      <td>0</td>\n",
              "      <td>0</td>\n",
              "      <td>0.0</td>\n",
              "      <td>0.0</td>\n",
              "      <td>0</td>\n",
              "      <td>1.0</td>\n",
              "      <td>0</td>\n",
              "      <td>0</td>\n",
              "      <td>0</td>\n",
              "      <td>0</td>\n",
              "      <td>0</td>\n",
              "      <td>0</td>\n",
              "      <td>0</td>\n",
              "      <td>0</td>\n",
              "      <td>0</td>\n",
              "      <td>1</td>\n",
              "      <td>0</td>\n",
              "      <td>0</td>\n",
              "      <td>0</td>\n",
              "      <td>0</td>\n",
              "      <td>0</td>\n",
              "      <td>0</td>\n",
              "      <td>0</td>\n",
              "      <td>0</td>\n",
              "      <td>0</td>\n",
              "      <td>0</td>\n",
              "      <td>0</td>\n",
              "      <td>0</td>\n",
              "      <td>0</td>\n",
              "      <td>0</td>\n",
              "      <td>0</td>\n",
              "    </tr>\n",
              "    <tr>\n",
              "      <th>...</th>\n",
              "      <td>...</td>\n",
              "      <td>...</td>\n",
              "      <td>...</td>\n",
              "      <td>...</td>\n",
              "      <td>...</td>\n",
              "      <td>...</td>\n",
              "      <td>...</td>\n",
              "      <td>...</td>\n",
              "      <td>...</td>\n",
              "      <td>...</td>\n",
              "      <td>...</td>\n",
              "      <td>...</td>\n",
              "      <td>...</td>\n",
              "      <td>...</td>\n",
              "      <td>...</td>\n",
              "      <td>...</td>\n",
              "      <td>...</td>\n",
              "      <td>...</td>\n",
              "      <td>...</td>\n",
              "      <td>...</td>\n",
              "      <td>...</td>\n",
              "      <td>...</td>\n",
              "      <td>...</td>\n",
              "      <td>...</td>\n",
              "      <td>...</td>\n",
              "      <td>...</td>\n",
              "      <td>...</td>\n",
              "      <td>...</td>\n",
              "      <td>...</td>\n",
              "      <td>...</td>\n",
              "      <td>...</td>\n",
              "    </tr>\n",
              "    <tr>\n",
              "      <th>257780</th>\n",
              "      <td>0</td>\n",
              "      <td>0</td>\n",
              "      <td>0.0</td>\n",
              "      <td>0.0</td>\n",
              "      <td>0</td>\n",
              "      <td>0.0</td>\n",
              "      <td>0</td>\n",
              "      <td>0</td>\n",
              "      <td>0</td>\n",
              "      <td>0</td>\n",
              "      <td>0</td>\n",
              "      <td>0</td>\n",
              "      <td>0</td>\n",
              "      <td>0</td>\n",
              "      <td>0</td>\n",
              "      <td>0</td>\n",
              "      <td>0</td>\n",
              "      <td>0</td>\n",
              "      <td>0</td>\n",
              "      <td>0</td>\n",
              "      <td>0</td>\n",
              "      <td>0</td>\n",
              "      <td>0</td>\n",
              "      <td>0</td>\n",
              "      <td>0</td>\n",
              "      <td>0</td>\n",
              "      <td>0</td>\n",
              "      <td>0</td>\n",
              "      <td>0</td>\n",
              "      <td>0</td>\n",
              "      <td>1</td>\n",
              "    </tr>\n",
              "    <tr>\n",
              "      <th>257781</th>\n",
              "      <td>1</td>\n",
              "      <td>1</td>\n",
              "      <td>0.0</td>\n",
              "      <td>0.0</td>\n",
              "      <td>0</td>\n",
              "      <td>0.0</td>\n",
              "      <td>0</td>\n",
              "      <td>0</td>\n",
              "      <td>0</td>\n",
              "      <td>1</td>\n",
              "      <td>1</td>\n",
              "      <td>0</td>\n",
              "      <td>0</td>\n",
              "      <td>0</td>\n",
              "      <td>0</td>\n",
              "      <td>0</td>\n",
              "      <td>0</td>\n",
              "      <td>0</td>\n",
              "      <td>0</td>\n",
              "      <td>0</td>\n",
              "      <td>0</td>\n",
              "      <td>0</td>\n",
              "      <td>0</td>\n",
              "      <td>1</td>\n",
              "      <td>0</td>\n",
              "      <td>0</td>\n",
              "      <td>0</td>\n",
              "      <td>0</td>\n",
              "      <td>0</td>\n",
              "      <td>0</td>\n",
              "      <td>0</td>\n",
              "    </tr>\n",
              "    <tr>\n",
              "      <th>257782</th>\n",
              "      <td>1</td>\n",
              "      <td>0</td>\n",
              "      <td>0.0</td>\n",
              "      <td>0.0</td>\n",
              "      <td>1</td>\n",
              "      <td>0.0</td>\n",
              "      <td>0</td>\n",
              "      <td>0</td>\n",
              "      <td>0</td>\n",
              "      <td>1</td>\n",
              "      <td>1</td>\n",
              "      <td>0</td>\n",
              "      <td>0</td>\n",
              "      <td>0</td>\n",
              "      <td>0</td>\n",
              "      <td>0</td>\n",
              "      <td>0</td>\n",
              "      <td>0</td>\n",
              "      <td>0</td>\n",
              "      <td>0</td>\n",
              "      <td>0</td>\n",
              "      <td>0</td>\n",
              "      <td>1</td>\n",
              "      <td>0</td>\n",
              "      <td>0</td>\n",
              "      <td>0</td>\n",
              "      <td>0</td>\n",
              "      <td>0</td>\n",
              "      <td>0</td>\n",
              "      <td>0</td>\n",
              "      <td>0</td>\n",
              "    </tr>\n",
              "    <tr>\n",
              "      <th>257783</th>\n",
              "      <td>1</td>\n",
              "      <td>0</td>\n",
              "      <td>1.0</td>\n",
              "      <td>1.0</td>\n",
              "      <td>0</td>\n",
              "      <td>0.0</td>\n",
              "      <td>0</td>\n",
              "      <td>0</td>\n",
              "      <td>0</td>\n",
              "      <td>1</td>\n",
              "      <td>1</td>\n",
              "      <td>0</td>\n",
              "      <td>0</td>\n",
              "      <td>0</td>\n",
              "      <td>0</td>\n",
              "      <td>0</td>\n",
              "      <td>0</td>\n",
              "      <td>0</td>\n",
              "      <td>0</td>\n",
              "      <td>0</td>\n",
              "      <td>0</td>\n",
              "      <td>0</td>\n",
              "      <td>0</td>\n",
              "      <td>0</td>\n",
              "      <td>0</td>\n",
              "      <td>0</td>\n",
              "      <td>0</td>\n",
              "      <td>0</td>\n",
              "      <td>0</td>\n",
              "      <td>0</td>\n",
              "      <td>0</td>\n",
              "    </tr>\n",
              "    <tr>\n",
              "      <th>257784</th>\n",
              "      <td>0</td>\n",
              "      <td>0</td>\n",
              "      <td>0.0</td>\n",
              "      <td>0.0</td>\n",
              "      <td>0</td>\n",
              "      <td>1.0</td>\n",
              "      <td>0</td>\n",
              "      <td>0</td>\n",
              "      <td>0</td>\n",
              "      <td>0</td>\n",
              "      <td>0</td>\n",
              "      <td>0</td>\n",
              "      <td>0</td>\n",
              "      <td>0</td>\n",
              "      <td>0</td>\n",
              "      <td>0</td>\n",
              "      <td>0</td>\n",
              "      <td>0</td>\n",
              "      <td>0</td>\n",
              "      <td>0</td>\n",
              "      <td>0</td>\n",
              "      <td>0</td>\n",
              "      <td>0</td>\n",
              "      <td>0</td>\n",
              "      <td>0</td>\n",
              "      <td>0</td>\n",
              "      <td>0</td>\n",
              "      <td>0</td>\n",
              "      <td>0</td>\n",
              "      <td>0</td>\n",
              "      <td>1</td>\n",
              "    </tr>\n",
              "  </tbody>\n",
              "</table>\n",
              "<p>257785 rows × 31 columns</p>\n",
              "</div>"
            ],
            "text/plain": [
              "        HOSPITALIZADO  FEBRE  ...  CONDICOES_Síndrome de Down  CONDICOES_nan\n",
              "0                   0      1  ...                           0              0\n",
              "1                   0      0  ...                           0              1\n",
              "2                   0      0  ...                           0              1\n",
              "3                   0      0  ...                           0              1\n",
              "4                   0      0  ...                           0              0\n",
              "...               ...    ...  ...                         ...            ...\n",
              "257780              0      0  ...                           0              1\n",
              "257781              1      1  ...                           0              0\n",
              "257782              1      0  ...                           0              0\n",
              "257783              1      0  ...                           0              0\n",
              "257784              0      0  ...                           0              1\n",
              "\n",
              "[257785 rows x 31 columns]"
            ]
          },
          "metadata": {
            "tags": []
          },
          "execution_count": 14
        }
      ]
    },
    {
      "cell_type": "markdown",
      "metadata": {
        "id": "9P9jThkWHgjC"
      },
      "source": [
        "**A coluna óbito é a mais importante**"
      ]
    },
    {
      "cell_type": "code",
      "metadata": {
        "id": "VUn2hyHjNISy"
      },
      "source": [
        "dados_target = dados_colunas_bin ['OBITO'] "
      ],
      "execution_count": 13,
      "outputs": []
    },
    {
      "cell_type": "code",
      "metadata": {
        "id": "GTmYkEJhU5GQ",
        "outputId": "eb880f29-479a-4f0e-830b-e439298c7bea",
        "colab": {
          "base_uri": "https://localhost:8080/"
        }
      },
      "source": [
        "dados_target"
      ],
      "execution_count": 15,
      "outputs": [
        {
          "output_type": "execute_result",
          "data": {
            "text/plain": [
              "0         0\n",
              "1         0\n",
              "2         0\n",
              "3         0\n",
              "4         0\n",
              "         ..\n",
              "257780    0\n",
              "257781    0\n",
              "257782    0\n",
              "257783    1\n",
              "257784    0\n",
              "Name: OBITO, Length: 257785, dtype: int64"
            ]
          },
          "metadata": {
            "tags": []
          },
          "execution_count": 15
        }
      ]
    },
    {
      "cell_type": "markdown",
      "metadata": {
        "id": "XsQvKmqggEEb"
      },
      "source": [
        "# **Treinamento**\n",
        "Treinar com o modelo arvore de decisão como modelo \"DecisionTreeClassifier\".\n",
        "O sklearn implementa o DecisionTreeClassifier, que é um modelo CART. Podemos aproximar o modelo do C4.5 usando entropia no lugar de gini para decidir os atributos em cada nó. De qualquer forma, este modelo lida automaticamente com atributos numéricos e implementa poda."
      ]
    },
    {
      "cell_type": "code",
      "metadata": {
        "id": "eQI3Is0rgctL"
      },
      "source": [
        "from sklearn.tree import DecisionTreeClassifier\n",
        "\n",
        "modelo = DecisionTreeClassifier(random_state=0, criterion=\"entropy\")\n",
        "\n",
        "# A função fit recebe como primeiro parâmetro uma matriz CxN, com C colunas e N linhas, onde cada linha especifica um exemplo\n",
        "# O segundo parâmetro é um vetor com N posições, indicando os rótulos das linhas da matriz no primeiro parâmetro\n",
        "\n",
        "X_treino = dados_importantes\n",
        "y_treino = dados_target\n",
        "modelo_treinado = modelo.fit(X_treino, y_treino)\n"
      ],
      "execution_count": 17,
      "outputs": []
    },
    {
      "cell_type": "markdown",
      "metadata": {
        "id": "423fRNvHK-_4"
      },
      "source": [
        "# **Avaliação do modelo**\n",
        "Com o modelo treinado, temos que avaliá-lo no conjunto de teste. O sklearn implementa a maior parte das métricas comuns, bem como permite mostrar a matriz de confusão completa."
      ]
    },
    {
      "cell_type": "code",
      "metadata": {
        "id": "a9DXegzlg2k3",
        "outputId": "df336668-3299-4a73-a26f-32f78a75cc5c",
        "colab": {
          "base_uri": "https://localhost:8080/"
        }
      },
      "source": [
        "from sklearn.metrics import accuracy_score\n",
        "\n",
        "# Separamos atributos e classe dos dados de teste\n",
        "X_teste = dados_importantes\n",
        "y_teste = dados_target\n",
        "\n",
        "# Passamos os exemplos sem classe pelo modelo treinado, que retorna a predicao em um vetor\n",
        "predicoes = modelo_treinado.predict(X_teste)\n",
        "\n",
        "# Com as predicoes, podemos calcular as métricas. Abaixo, a acurácia.\n",
        "# Observe que sempre passamos os valores verdadeiros (y_teste) e depois as predicoes\n",
        "acuracia = accuracy_score(y_teste, predicoes)\n",
        "print(\"Acurácia do modelo: \", acuracia)"
      ],
      "execution_count": 18,
      "outputs": [
        {
          "output_type": "stream",
          "text": [
            "Acurácia do modelo:  0.9827996198382373\n"
          ],
          "name": "stdout"
        }
      ]
    },
    {
      "cell_type": "markdown",
      "metadata": {
        "id": "pI0I8N-PLiCe"
      },
      "source": [
        "**Relatório com as principais métricas**"
      ]
    },
    {
      "cell_type": "code",
      "metadata": {
        "id": "LGZqvlU9hEzV",
        "outputId": "eaba9aa5-3bcf-42f6-9b49-4bc538fa8364",
        "colab": {
          "base_uri": "https://localhost:8080/"
        }
      },
      "source": [
        "\n",
        "from sklearn.metrics import classification_report\n",
        "\n",
        "relatorio = classification_report(y_teste, predicoes)\n",
        "print(relatorio)\n"
      ],
      "execution_count": 19,
      "outputs": [
        {
          "output_type": "stream",
          "text": [
            "              precision    recall  f1-score   support\n",
            "\n",
            "           0       0.99      1.00      0.99    251812\n",
            "           1       0.76      0.38      0.51      5973\n",
            "\n",
            "    accuracy                           0.98    257785\n",
            "   macro avg       0.87      0.69      0.75    257785\n",
            "weighted avg       0.98      0.98      0.98    257785\n",
            "\n"
          ],
          "name": "stdout"
        }
      ]
    },
    {
      "cell_type": "markdown",
      "metadata": {
        "id": "_6JRZIyMMVIv"
      },
      "source": [
        "Na **matriz de confusão**, da esquerda para a direita e de cima para baixo, e considerando que 1 é a classe \"positiva\", temos a contagem do (i) número de casos que não foram a óbito (Verdadeiros Negativos), (ii) número de não óbitos que foram classificados como óbitos  (Falsos Negativos), (iii) número de óbitos que foram classificadas como não óbitos (Falsos Positivos) e (iv) número de óbitos que foram classificadas como óbitos (Verdadeiros Negativos). "
      ]
    },
    {
      "cell_type": "code",
      "metadata": {
        "id": "iuMUpw1Xh9rl",
        "outputId": "c4fd534a-a5ac-49f7-ed7b-d9e1d7826ad5",
        "colab": {
          "base_uri": "https://localhost:8080/",
          "height": 299
        }
      },
      "source": [
        "from sklearn.metrics import plot_confusion_matrix\n",
        "\n",
        "plot_confusion_matrix(modelo_treinado, X_teste, y_teste)\n",
        "\n"
      ],
      "execution_count": 20,
      "outputs": [
        {
          "output_type": "execute_result",
          "data": {
            "text/plain": [
              "<sklearn.metrics._plot.confusion_matrix.ConfusionMatrixDisplay at 0x7fccc668af60>"
            ]
          },
          "metadata": {
            "tags": []
          },
          "execution_count": 20
        },
        {
          "output_type": "display_data",
          "data": {
            "image/png": "[encoded data removed]",
            "text/plain": [
              "<Figure size 432x288 with 2 Axes>"
            ]
          },
          "metadata": {
            "tags": [],
            "needs_background": "light"
          }
        }
      ]
    },
    {
      "cell_type": "code",
      "metadata": {
        "id": "Kus33thIlZnD"
      },
      "source": [
        ""
      ],
      "execution_count": 20,
      "outputs": []
    },
    {
      "cell_type": "markdown",
      "metadata": {
        "id": "G87vfUTeNqt9"
      },
      "source": [
        "## **Melhorando a avaliação**\n",
        "Todas métricas acima foram derivadas do conjunto de teste, que compõe 20% do total de dados. O problema desta técnica é que, como os dados foram separados aleatoriamente, há a possibilidade de que a separação criou conjuntos muito diferentes entre si."
      ]
    },
    {
      "cell_type": "markdown",
      "metadata": {
        "id": "whBZxUFENwWC"
      },
      "source": [
        "# Bootstrapping\n",
        "Uma primeira ideia é repetir o proceso todo várias vezes, criando uma separação aleatória a cada vez e treinando modelos independentes. Então, podemos pegar a média das métricas obtidas com cada modelo. Esta técnica de validação cruzada é chamada bootstrapping. Podemos usar a função **ShuffleSplit** do sklearn para isso."
      ]
    },
    {
      "cell_type": "code",
      "metadata": {
        "id": "Hq079eVBL84Y",
        "outputId": "98912dfa-c8a9-4ef4-a017-3c7624829c5c",
        "colab": {
          "base_uri": "https://localhost:8080/"
        }
      },
      "source": [
        "from sklearn.model_selection import ShuffleSplit\n",
        "\n",
        "X = dados_importantes\n",
        "y = dados_target\n",
        "\n",
        "# Vamos criar 10 separações, mantendo 20% de teste em cada uma\n",
        "rs = ShuffleSplit(n_splits=10, test_size=.2)\n",
        "\n",
        "# List para armazernamos as acurácias de cada modelo\n",
        "acuracias = []\n",
        "\n",
        "# Agora iteramos por cada separação e treinamos um modelo\n",
        "# O método split retorna índices para o vetor passado como parametro\n",
        "# O .loc é a maneira de indexar tabelas no pandas a partir de índices\n",
        "for train_index, test_index in rs.split(X):\n",
        "  modelo_treinado = modelo.fit(X.loc[train_index], y.loc[train_index])\n",
        "  predicoes = modelo_treinado.predict(X.loc[test_index])\n",
        "  acuracias.append(accuracy_score(y.loc[test_index], predicoes))\n",
        "\n",
        "print(acuracias)\n",
        "print(\"Média das acurácias: \", sum(acuracias) / len(acuracias))\n",
        "#Uma abordagem seria estratificar a separação entre treino/teste. A estratificação procura garantir que a distribuição dos dados é semelhante entre os grupos. Ela pode ser feita tanto para atributos como para rótulos. \n"
      ],
      "execution_count": 21,
      "outputs": [
        {
          "output_type": "stream",
          "text": [
            "[0.9788001629264698, 0.9778497585196967, 0.977073918187637, 0.9774618383536668, 0.97932385515061, 0.978063114611013, 0.9781600946525205, 0.976996334154431, 0.9777333824698877, 0.9774424423453654]\n",
            "Média das acurácias:  0.9778904901371298\n"
          ],
          "name": "stdout"
        }
      ]
    },
    {
      "cell_type": "markdown",
      "metadata": {
        "id": "r_9uP270OWDU"
      },
      "source": [
        "## K-Fold\n",
        "\n",
        "Uma alternativa a esta abordagem é denominada validação cruzada *k-fold* (k-partições? Não há uma boa tradução ainda.). A ideia é embaralhar os dados e então dividí-los em *k* partições. Então, separamos a primeira partição como teste e treinamos um modelo nas *k-1* partições restantes; na sequência, separamos a *segunda* partição como teste e treinamos outro modelo nas restantes e assim por diante até que todas partições tenham participado do teste. \n",
        "\n",
        "Com isso, treinamos *k* modelos sobre dados diferentes. Como antes, podemos pegar as médias de cada métrica para usarmos como estimativas.\n",
        "\n",
        "O sklearn nos fornece uma função que automatiza o processo e não precisamos criar o loop manualmente como fizemos antes. Esta função é a `cross_val_score`."
      ]
    },
    {
      "cell_type": "code",
      "metadata": {
        "id": "t4RMiPy-TDn4",
        "outputId": "4c4ed19d-9603-4273-eb9c-00478dc9ab72",
        "colab": {
          "base_uri": "https://localhost:8080/"
        }
      },
      "source": [
        "from sklearn.model_selection import cross_val_score\n",
        "\n",
        "# O parâmetro cv indica quantas partições criaremos\n",
        "scores = cross_val_score(modelo, X, y, cv=10)\n",
        "print(\"Acurácia média: \", scores.mean())"
      ],
      "execution_count": 22,
      "outputs": [
        {
          "output_type": "stream",
          "text": [
            "Acurácia média:  0.9774114065415953\n"
          ],
          "name": "stdout"
        }
      ]
    }
  ]
}