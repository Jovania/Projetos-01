{
  "nbformat": 4,
  "nbformat_minor": 0,
  "metadata": {
    "colab": {
      "name": "Resnet18_20.ipynb",
      "provenance": [],
      "collapsed_sections": [],
      "include_colab_link": true
    },
    "kernelspec": {
      "name": "python3",
      "display_name": "Python 3"
    },
    "accelerator": "GPU"
  },
  "cells": [
    {
      "cell_type": "markdown",
      "metadata": {
        "id": "view-in-github",
        "colab_type": "text"
      },
      "source": [
        "<a href=\"https://colab.research.google.com/github/Jovania/Projetos-01/blob/master/Resnet18_20.ipynb\" target=\"_parent\"><img src=\"https://colab.research.google.com/assets/colab-badge.svg\" alt=\"Open In Colab\"/></a>"
      ]
    },
    {
      "cell_type": "markdown",
      "metadata": {
        "id": "mz2MeiGR3GYO"
      },
      "source": [
        "# Obtendo o dataset"
      ]
    },
    {
      "cell_type": "code",
      "metadata": {
        "colab": {
          "base_uri": "https://localhost:8080/",
          "height": 0
        },
        "id": "9Ld0eqoL27Er",
        "outputId": "70846158-7852-4e8f-d090-afd02dc7bad3"
      },
      "source": [
        "!wget https://www.dropbox.com/s/ka0bbhrdp5k2nzo/cassava-leaf-disease-classification.zip?dl=0\n",
        "!unzip -qq -n cassava-leaf-disease-classification.zip?dl=0"
      ],
      "execution_count": 10,
      "outputs": [
        {
          "output_type": "stream",
          "text": [
            "--2020-12-21 18:25:22--  https://www.dropbox.com/s/ka0bbhrdp5k2nzo/cassava-leaf-disease-classification.zip?dl=0\n",
            "Resolving www.dropbox.com (www.dropbox.com)... 162.125.6.18, 2620:100:6019:18::a27d:412\n",
            "Connecting to www.dropbox.com (www.dropbox.com)|162.125.6.18|:443... connected.\n",
            "HTTP request sent, awaiting response... 301 Moved Permanently\n",
            "Location: /s/raw/ka0bbhrdp5k2nzo/cassava-leaf-disease-classification.zip [following]\n",
            "--2020-12-21 18:25:22--  https://www.dropbox.com/s/raw/ka0bbhrdp5k2nzo/cassava-leaf-disease-classification.zip\n",
            "Reusing existing connection to www.dropbox.com:443.\n",
            "HTTP request sent, awaiting response... 302 Found\n",
            "Location: https://uca86aeafadbb3f53b86b0639aa6.dl.dropboxusercontent.com/cd/0/inline/BFgXHxJ6mMNNN998daAhJR0KkbNCNSc3140imrFRlov4NLP9VX1GXGY11CPfNWhMmDEGbBnQdSCTiAx9eQSy6k7CslfMSvaseed_hJ-8oX2AdTcWw7r9W8_UEMFaZVl492o/file# [following]\n",
            "--2020-12-21 18:25:22--  https://uca86aeafadbb3f53b86b0639aa6.dl.dropboxusercontent.com/cd/0/inline/BFgXHxJ6mMNNN998daAhJR0KkbNCNSc3140imrFRlov4NLP9VX1GXGY11CPfNWhMmDEGbBnQdSCTiAx9eQSy6k7CslfMSvaseed_hJ-8oX2AdTcWw7r9W8_UEMFaZVl492o/file\n",
            "Resolving uca86aeafadbb3f53b86b0639aa6.dl.dropboxusercontent.com (uca86aeafadbb3f53b86b0639aa6.dl.dropboxusercontent.com)... 162.125.6.15, 2620:100:6019:15::a27d:40f\n",
            "Connecting to uca86aeafadbb3f53b86b0639aa6.dl.dropboxusercontent.com (uca86aeafadbb3f53b86b0639aa6.dl.dropboxusercontent.com)|162.125.6.15|:443... connected.\n",
            "HTTP request sent, awaiting response... 302 Found\n",
            "Location: /cd/0/inline2/BFh73t5UtFdVTXpqHi5Rzc_PNVrLixh_jafu1BQdIPkCBRec5t0Xrg1lJS8wMYTJHDkVrS2FdvX2ML9-u4cKRgDllRwZ-XwXBagDep7sMnCQ6vFfyQs_4d_HG4wjFWzl5uTjWc9G0krQ7JsSY3492_GS1u7Eho9ZbPB39_8UdXIjYmMIVUtTkvd9MMg8YxKxuVYJuJxXl1l9_hCeggqk5PchlRihMVrJTYg0svQS_EE76dgW956QXMXN3GkjlRZ6M1js3KVjZXURWBwQvzEzxuMP1RCnyjgWIi_WWNA6s5TnRP_w6s0eEbEzkt3p-xmqEyx3whe2gT4bRtd6xztrx4qr_tk203n1eoW03c5kWZngdw/file [following]\n",
            "--2020-12-21 18:25:23--  https://uca86aeafadbb3f53b86b0639aa6.dl.dropboxusercontent.com/cd/0/inline2/BFh73t5UtFdVTXpqHi5Rzc_PNVrLixh_jafu1BQdIPkCBRec5t0Xrg1lJS8wMYTJHDkVrS2FdvX2ML9-u4cKRgDllRwZ-XwXBagDep7sMnCQ6vFfyQs_4d_HG4wjFWzl5uTjWc9G0krQ7JsSY3492_GS1u7Eho9ZbPB39_8UdXIjYmMIVUtTkvd9MMg8YxKxuVYJuJxXl1l9_hCeggqk5PchlRihMVrJTYg0svQS_EE76dgW956QXMXN3GkjlRZ6M1js3KVjZXURWBwQvzEzxuMP1RCnyjgWIi_WWNA6s5TnRP_w6s0eEbEzkt3p-xmqEyx3whe2gT4bRtd6xztrx4qr_tk203n1eoW03c5kWZngdw/file\n",
            "Reusing existing connection to uca86aeafadbb3f53b86b0639aa6.dl.dropboxusercontent.com:443.\n",
            "HTTP request sent, awaiting response... 200 OK\n",
            "Length: 6185662420 (5.8G) [application/zip]\n",
            "Saving to: ‘cassava-leaf-disease-classification.zip?dl=0.1’\n",
            "\n",
            "cassava-leaf-diseas 100%[===================>]   5.76G  37.1MB/s    in 2m 5s   \n",
            "\n",
            "2020-12-21 18:27:29 (47.2 MB/s) - ‘cassava-leaf-disease-classification.zip?dl=0.1’ saved [6185662420/6185662420]\n",
            "\n"
          ],
          "name": "stdout"
        }
      ]
    },
    {
      "cell_type": "code",
      "metadata": {
        "colab": {
          "base_uri": "https://localhost:8080/",
          "height": 202
        },
        "id": "SI6Nf_M_3brE",
        "outputId": "441cb4a5-6f07-4d3b-c66b-0a45f812787c"
      },
      "source": [
        "import pandas as pd\n",
        "\n",
        "df_train = pd.read_csv(\"train.csv\")\n",
        "df_train.head()"
      ],
      "execution_count": 11,
      "outputs": [
        {
          "output_type": "execute_result",
          "data": {
            "text/html": [
              "<div>\n",
              "<style scoped>\n",
              "    .dataframe tbody tr th:only-of-type {\n",
              "        vertical-align: middle;\n",
              "    }\n",
              "\n",
              "    .dataframe tbody tr th {\n",
              "        vertical-align: top;\n",
              "    }\n",
              "\n",
              "    .dataframe thead th {\n",
              "        text-align: right;\n",
              "    }\n",
              "</style>\n",
              "<table border=\"1\" class=\"dataframe\">\n",
              "  <thead>\n",
              "    <tr style=\"text-align: right;\">\n",
              "      <th></th>\n",
              "      <th>image_id</th>\n",
              "      <th>label</th>\n",
              "    </tr>\n",
              "  </thead>\n",
              "  <tbody>\n",
              "    <tr>\n",
              "      <th>0</th>\n",
              "      <td>1000015157.jpg</td>\n",
              "      <td>0</td>\n",
              "    </tr>\n",
              "    <tr>\n",
              "      <th>1</th>\n",
              "      <td>1000201771.jpg</td>\n",
              "      <td>3</td>\n",
              "    </tr>\n",
              "    <tr>\n",
              "      <th>2</th>\n",
              "      <td>100042118.jpg</td>\n",
              "      <td>1</td>\n",
              "    </tr>\n",
              "    <tr>\n",
              "      <th>3</th>\n",
              "      <td>1000723321.jpg</td>\n",
              "      <td>1</td>\n",
              "    </tr>\n",
              "    <tr>\n",
              "      <th>4</th>\n",
              "      <td>1000812911.jpg</td>\n",
              "      <td>3</td>\n",
              "    </tr>\n",
              "  </tbody>\n",
              "</table>\n",
              "</div>"
            ],
            "text/plain": [
              "         image_id  label\n",
              "0  1000015157.jpg      0\n",
              "1  1000201771.jpg      3\n",
              "2   100042118.jpg      1\n",
              "3  1000723321.jpg      1\n",
              "4  1000812911.jpg      3"
            ]
          },
          "metadata": {
            "tags": []
          },
          "execution_count": 11
        }
      ]
    },
    {
      "cell_type": "code",
      "metadata": {
        "id": "mwzX7dqhW7E7",
        "colab": {
          "base_uri": "https://localhost:8080/",
          "height": 202
        },
        "outputId": "d0b5ac5c-a520-43f7-f435-b0216bc1e64c"
      },
      "source": [
        "df_train[\"disease\"] = df_train.label.map({0:\"Cassava Bacterial Blight (CBB)\",\r\n",
        "1:\"Cassava Brown Streak Disease (CBSD)\",\r\n",
        "2:\"Cassava Green Mottle (CGM)\",\r\n",
        "3:\"Cassava Mosaic Disease (CMD)\",\r\n",
        "4:\"Healthy\"})\r\n",
        "\r\n",
        "df_train.head()"
      ],
      "execution_count": 12,
      "outputs": [
        {
          "output_type": "execute_result",
          "data": {
            "text/html": [
              "<div>\n",
              "<style scoped>\n",
              "    .dataframe tbody tr th:only-of-type {\n",
              "        vertical-align: middle;\n",
              "    }\n",
              "\n",
              "    .dataframe tbody tr th {\n",
              "        vertical-align: top;\n",
              "    }\n",
              "\n",
              "    .dataframe thead th {\n",
              "        text-align: right;\n",
              "    }\n",
              "</style>\n",
              "<table border=\"1\" class=\"dataframe\">\n",
              "  <thead>\n",
              "    <tr style=\"text-align: right;\">\n",
              "      <th></th>\n",
              "      <th>image_id</th>\n",
              "      <th>label</th>\n",
              "      <th>disease</th>\n",
              "    </tr>\n",
              "  </thead>\n",
              "  <tbody>\n",
              "    <tr>\n",
              "      <th>0</th>\n",
              "      <td>1000015157.jpg</td>\n",
              "      <td>0</td>\n",
              "      <td>Cassava Bacterial Blight (CBB)</td>\n",
              "    </tr>\n",
              "    <tr>\n",
              "      <th>1</th>\n",
              "      <td>1000201771.jpg</td>\n",
              "      <td>3</td>\n",
              "      <td>Cassava Mosaic Disease (CMD)</td>\n",
              "    </tr>\n",
              "    <tr>\n",
              "      <th>2</th>\n",
              "      <td>100042118.jpg</td>\n",
              "      <td>1</td>\n",
              "      <td>Cassava Brown Streak Disease (CBSD)</td>\n",
              "    </tr>\n",
              "    <tr>\n",
              "      <th>3</th>\n",
              "      <td>1000723321.jpg</td>\n",
              "      <td>1</td>\n",
              "      <td>Cassava Brown Streak Disease (CBSD)</td>\n",
              "    </tr>\n",
              "    <tr>\n",
              "      <th>4</th>\n",
              "      <td>1000812911.jpg</td>\n",
              "      <td>3</td>\n",
              "      <td>Cassava Mosaic Disease (CMD)</td>\n",
              "    </tr>\n",
              "  </tbody>\n",
              "</table>\n",
              "</div>"
            ],
            "text/plain": [
              "         image_id  label                              disease\n",
              "0  1000015157.jpg      0       Cassava Bacterial Blight (CBB)\n",
              "1  1000201771.jpg      3         Cassava Mosaic Disease (CMD)\n",
              "2   100042118.jpg      1  Cassava Brown Streak Disease (CBSD)\n",
              "3  1000723321.jpg      1  Cassava Brown Streak Disease (CBSD)\n",
              "4  1000812911.jpg      3         Cassava Mosaic Disease (CMD)"
            ]
          },
          "metadata": {
            "tags": []
          },
          "execution_count": 12
        }
      ]
    },
    {
      "cell_type": "code",
      "metadata": {
        "id": "24nnrHOQW_Lh",
        "colab": {
          "base_uri": "https://localhost:8080/",
          "height": 427
        },
        "outputId": "34956026-3815-4b92-f1a7-fc95ca6520e7"
      },
      "source": [
        "import os\r\n",
        "import cv2\r\n",
        "from matplotlib import pyplot as plt\r\n",
        "import seaborn as sns\r\n",
        "from matplotlib import rcParams\r\n",
        "\r\n",
        "\r\n",
        "rcParams[\"figure.figsize\"] = 30,10\r\n",
        "sns.countplot(data = df_train,x=\"disease\",hue=\"label\")"
      ],
      "execution_count": 13,
      "outputs": [
        {
          "output_type": "execute_result",
          "data": {
            "text/plain": [
              "<matplotlib.axes._subplots.AxesSubplot at 0x7efcbc2468d0>"
            ]
          },
          "metadata": {
            "tags": []
          },
          "execution_count": 13
        },
        {
          "output_type": "display_data",
          "data": {
            "image/png": "[encoded data removed]",
            "text/plain": [
              "<Figure size 2160x720 with 1 Axes>"
            ]
          },
          "metadata": {
            "tags": [],
            "needs_background": "light"
          }
        }
      ]
    },
    {
      "cell_type": "markdown",
      "metadata": {
        "id": "3IndzP-nPfCJ"
      },
      "source": [
        "# Instalando fastai"
      ]
    },
    {
      "cell_type": "code",
      "metadata": {
        "id": "LpaBTFAl3kSv"
      },
      "source": [
        "! [ -e /content ] && pip install -Uqq fastai"
      ],
      "execution_count": 14,
      "outputs": []
    },
    {
      "cell_type": "code",
      "metadata": {
        "id": "MTx_pIrI3xmN"
      },
      "source": [
        "from fastai.vision.all import *"
      ],
      "execution_count": 15,
      "outputs": []
    },
    {
      "cell_type": "markdown",
      "metadata": {
        "id": "eE-0IDwVPh0B"
      },
      "source": [
        "# Carregando o dataset e redimensionando"
      ]
    },
    {
      "cell_type": "code",
      "metadata": {
        "id": "6K8idszy3zo0"
      },
      "source": [
        "dls = ImageDataLoaders.from_df(df_train, path=\"./train_images/\", item_tfms=Resize(224))"
      ],
      "execution_count": 16,
      "outputs": []
    },
    {
      "cell_type": "code",
      "metadata": {
        "id": "kw8JYht9314r"
      },
      "source": [
        "#dls.show_batch()"
      ],
      "execution_count": 17,
      "outputs": []
    },
    {
      "cell_type": "markdown",
      "metadata": {
        "id": "I06kjmn4PodI"
      },
      "source": [
        "# Treinando um modelo"
      ]
    },
    {
      "cell_type": "code",
      "metadata": {
        "colab": {
          "base_uri": "https://localhost:8080/",
          "height": 662
        },
        "id": "G7hIciBM9K8X",
        "outputId": "87af121c-9178-45f2-d05e-036f5f6c6ce3"
      },
      "source": [
        "learn = cnn_learner(dls, resnet18, metrics=[error_rate,accuracy], pretrained=False)\n",
        "learn.fit(20)"
      ],
      "execution_count": 18,
      "outputs": [
        {
          "output_type": "display_data",
          "data": {
            "text/html": [
              "<table border=\"1\" class=\"dataframe\">\n",
              "  <thead>\n",
              "    <tr style=\"text-align: left;\">\n",
              "      <th>epoch</th>\n",
              "      <th>train_loss</th>\n",
              "      <th>valid_loss</th>\n",
              "      <th>error_rate</th>\n",
              "      <th>accuracy</th>\n",
              "      <th>time</th>\n",
              "    </tr>\n",
              "  </thead>\n",
              "  <tbody>\n",
              "    <tr>\n",
              "      <td>0</td>\n",
              "      <td>1.231822</td>\n",
              "      <td>1.084011</td>\n",
              "      <td>0.387707</td>\n",
              "      <td>0.612293</td>\n",
              "      <td>03:49</td>\n",
              "    </tr>\n",
              "    <tr>\n",
              "      <td>1</td>\n",
              "      <td>1.019422</td>\n",
              "      <td>1.070396</td>\n",
              "      <td>0.405469</td>\n",
              "      <td>0.594531</td>\n",
              "      <td>03:47</td>\n",
              "    </tr>\n",
              "    <tr>\n",
              "      <td>2</td>\n",
              "      <td>0.911689</td>\n",
              "      <td>1.171897</td>\n",
              "      <td>0.426268</td>\n",
              "      <td>0.573732</td>\n",
              "      <td>03:48</td>\n",
              "    </tr>\n",
              "    <tr>\n",
              "      <td>3</td>\n",
              "      <td>0.834518</td>\n",
              "      <td>1.189949</td>\n",
              "      <td>0.385838</td>\n",
              "      <td>0.614162</td>\n",
              "      <td>03:48</td>\n",
              "    </tr>\n",
              "    <tr>\n",
              "      <td>4</td>\n",
              "      <td>0.781632</td>\n",
              "      <td>1.193404</td>\n",
              "      <td>0.455948</td>\n",
              "      <td>0.544052</td>\n",
              "      <td>03:51</td>\n",
              "    </tr>\n",
              "    <tr>\n",
              "      <td>5</td>\n",
              "      <td>0.752664</td>\n",
              "      <td>1.265322</td>\n",
              "      <td>0.361066</td>\n",
              "      <td>0.638934</td>\n",
              "      <td>03:48</td>\n",
              "    </tr>\n",
              "    <tr>\n",
              "      <td>6</td>\n",
              "      <td>0.720313</td>\n",
              "      <td>0.878535</td>\n",
              "      <td>0.339799</td>\n",
              "      <td>0.660201</td>\n",
              "      <td>03:43</td>\n",
              "    </tr>\n",
              "    <tr>\n",
              "      <td>7</td>\n",
              "      <td>0.703000</td>\n",
              "      <td>1.150614</td>\n",
              "      <td>0.421594</td>\n",
              "      <td>0.578406</td>\n",
              "      <td>03:40</td>\n",
              "    </tr>\n",
              "    <tr>\n",
              "      <td>8</td>\n",
              "      <td>0.674238</td>\n",
              "      <td>0.936174</td>\n",
              "      <td>0.307548</td>\n",
              "      <td>0.692452</td>\n",
              "      <td>03:40</td>\n",
              "    </tr>\n",
              "    <tr>\n",
              "      <td>9</td>\n",
              "      <td>0.645030</td>\n",
              "      <td>1.601995</td>\n",
              "      <td>0.634728</td>\n",
              "      <td>0.365272</td>\n",
              "      <td>03:43</td>\n",
              "    </tr>\n",
              "    <tr>\n",
              "      <td>10</td>\n",
              "      <td>0.630957</td>\n",
              "      <td>0.866845</td>\n",
              "      <td>0.324375</td>\n",
              "      <td>0.675625</td>\n",
              "      <td>03:44</td>\n",
              "    </tr>\n",
              "    <tr>\n",
              "      <td>11</td>\n",
              "      <td>0.631146</td>\n",
              "      <td>0.828224</td>\n",
              "      <td>0.315261</td>\n",
              "      <td>0.684739</td>\n",
              "      <td>03:40</td>\n",
              "    </tr>\n",
              "    <tr>\n",
              "      <td>12</td>\n",
              "      <td>0.587577</td>\n",
              "      <td>0.775706</td>\n",
              "      <td>0.272727</td>\n",
              "      <td>0.727273</td>\n",
              "      <td>03:44</td>\n",
              "    </tr>\n",
              "    <tr>\n",
              "      <td>13</td>\n",
              "      <td>0.582557</td>\n",
              "      <td>0.845006</td>\n",
              "      <td>0.281374</td>\n",
              "      <td>0.718626</td>\n",
              "      <td>03:46</td>\n",
              "    </tr>\n",
              "    <tr>\n",
              "      <td>14</td>\n",
              "      <td>0.549514</td>\n",
              "      <td>2.721532</td>\n",
              "      <td>0.738023</td>\n",
              "      <td>0.261977</td>\n",
              "      <td>03:48</td>\n",
              "    </tr>\n",
              "    <tr>\n",
              "      <td>15</td>\n",
              "      <td>0.573426</td>\n",
              "      <td>0.764741</td>\n",
              "      <td>0.288853</td>\n",
              "      <td>0.711147</td>\n",
              "      <td>03:47</td>\n",
              "    </tr>\n",
              "    <tr>\n",
              "      <td>16</td>\n",
              "      <td>0.538776</td>\n",
              "      <td>0.747093</td>\n",
              "      <td>0.274831</td>\n",
              "      <td>0.725169</td>\n",
              "      <td>03:49</td>\n",
              "    </tr>\n",
              "    <tr>\n",
              "      <td>17</td>\n",
              "      <td>0.505380</td>\n",
              "      <td>0.963846</td>\n",
              "      <td>0.308951</td>\n",
              "      <td>0.691049</td>\n",
              "      <td>03:46</td>\n",
              "    </tr>\n",
              "    <tr>\n",
              "      <td>18</td>\n",
              "      <td>0.493085</td>\n",
              "      <td>0.848918</td>\n",
              "      <td>0.272494</td>\n",
              "      <td>0.727506</td>\n",
              "      <td>03:45</td>\n",
              "    </tr>\n",
              "    <tr>\n",
              "      <td>19</td>\n",
              "      <td>0.480367</td>\n",
              "      <td>1.323841</td>\n",
              "      <td>0.360598</td>\n",
              "      <td>0.639402</td>\n",
              "      <td>03:46</td>\n",
              "    </tr>\n",
              "  </tbody>\n",
              "</table>"
            ],
            "text/plain": [
              "<IPython.core.display.HTML object>"
            ]
          },
          "metadata": {
            "tags": []
          }
        }
      ]
    },
    {
      "cell_type": "code",
      "metadata": {
        "colab": {
          "base_uri": "https://localhost:8080/",
          "height": 0
        },
        "id": "vQrbAq1hSBjl",
        "outputId": "a0a1a6cc-afd9-4164-c06f-9cc48844a06c"
      },
      "source": [
        "from google.colab import drive\r\n",
        "\r\n",
        "# Autorização\r\n",
        "drive.mount('/content/drive')\r\n",
        "\r\n",
        "import os\r\n",
        "os.chdir('/content/drive/My Drive/pesos/')\r\n",
        "\r\n",
        "%ls"
      ],
      "execution_count": 19,
      "outputs": [
        {
          "output_type": "stream",
          "text": [
            "Mounted at /content/drive\n"
          ],
          "name": "stdout"
        }
      ]
    },
    {
      "cell_type": "code",
      "metadata": {
        "id": "tYmwGLplTouL"
      },
      "source": [
        "os.chdir('/content/drive/My Drive/pesos/')"
      ],
      "execution_count": 20,
      "outputs": []
    },
    {
      "cell_type": "code",
      "metadata": {
        "id": "A2nd0GP0SFf-"
      },
      "source": [
        "learn.export()"
      ],
      "execution_count": null,
      "outputs": []
    }
  ]
}